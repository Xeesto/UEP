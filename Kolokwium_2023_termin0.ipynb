{
  "nbformat": 4,
  "nbformat_minor": 0,
  "metadata": {
    "colab": {
      "provenance": [],
      "authorship_tag": "ABX9TyNTAalrL4i6djbUAPp4iRTh",
      "include_colab_link": true
    },
    "kernelspec": {
      "name": "python3",
      "display_name": "Python 3"
    },
    "language_info": {
      "name": "python"
    }
  },
  "cells": [
    {
      "cell_type": "markdown",
      "metadata": {
        "id": "view-in-github",
        "colab_type": "text"
      },
      "source": [
        "<a href=\"https://colab.research.google.com/github/Xeesto/UEP/blob/dev/Kolokwium_2023_termin0.ipynb\" target=\"_parent\"><img src=\"https://colab.research.google.com/assets/colab-badge.svg\" alt=\"Open In Colab\"/></a>"
      ]
    },
    {
      "cell_type": "code",
      "execution_count": 95,
      "metadata": {
        "id": "Lun-w93eWhHt"
      },
      "outputs": [],
      "source": [
        "# Ustaw wersję jako parametr\n",
        "SPARK_VERSION=\"3.5.6\"\n",
        "\n",
        "# Instalacja OpenJDK 8\n",
        "!apt-get install openjdk-8-jdk-headless -qq > /dev/null\n",
        "\n",
        "# Pobranie Apache Spark z określoną wersją\n",
        "!wget -q http://www.apache.org/dist/spark/spark-$SPARK_VERSION/spark-$SPARK_VERSION-bin-hadoop3.tgz\n",
        "\n",
        "# Rozpakowanie archiwum Spark\n",
        "!tar xf spark-$SPARK_VERSION-bin-hadoop3.tgz\n",
        "\n",
        "# Instalacja findspark i pyspark\n",
        "!pip install -q findspark==1.3.0\n",
        "!pip install -q pyspark==$SPARK_VERSION\n",
        "\n",
        "# Ustalamy zmienne środowiskowe.\n",
        "import os\n",
        "os.environ[\"JAVA_HOME\"] = \"/usr/lib/jvm/java-8-openjdk-amd64\"\n",
        "os.environ[\"SPARK_HOME\"] = f\"/content/spark-{SPARK_VERSION}-bin-hadoop3\""
      ]
    },
    {
      "cell_type": "code",
      "source": [
        "import findspark\n",
        "import pyspark\n",
        "from pyspark.sql import SparkSession\n",
        "from pyspark import SparkContext\n",
        "\n",
        "findspark.init(f\"spark-{SPARK_VERSION}-bin-hadoop3\")\n",
        "sc = pyspark.SparkContext('local[*]')\n",
        "spark = SparkSession.builder.appName('abc').getOrCreate()"
      ],
      "metadata": {
        "colab": {
          "base_uri": "https://localhost:8080/",
          "height": 225
        },
        "id": "wpjVVZX1XOZ9",
        "outputId": "c510671f-9dd9-4551-ad0e-edc50cd36f29"
      },
      "execution_count": 96,
      "outputs": [
        {
          "output_type": "error",
          "ename": "ValueError",
          "evalue": "Cannot run multiple SparkContexts at once; existing SparkContext(app=pyspark-shell, master=local[*]) created by __init__ at <ipython-input-2-7ffd166e450c>:7 ",
          "traceback": [
            "\u001b[0;31m---------------------------------------------------------------------------\u001b[0m",
            "\u001b[0;31mValueError\u001b[0m                                Traceback (most recent call last)",
            "\u001b[0;32m<ipython-input-96-7ffd166e450c>\u001b[0m in \u001b[0;36m<cell line: 0>\u001b[0;34m()\u001b[0m\n\u001b[1;32m      5\u001b[0m \u001b[0;34m\u001b[0m\u001b[0m\n\u001b[1;32m      6\u001b[0m \u001b[0mfindspark\u001b[0m\u001b[0;34m.\u001b[0m\u001b[0minit\u001b[0m\u001b[0;34m(\u001b[0m\u001b[0;34mf\"spark-{SPARK_VERSION}-bin-hadoop3\"\u001b[0m\u001b[0;34m)\u001b[0m\u001b[0;34m\u001b[0m\u001b[0;34m\u001b[0m\u001b[0m\n\u001b[0;32m----> 7\u001b[0;31m \u001b[0msc\u001b[0m \u001b[0;34m=\u001b[0m \u001b[0mpyspark\u001b[0m\u001b[0;34m.\u001b[0m\u001b[0mSparkContext\u001b[0m\u001b[0;34m(\u001b[0m\u001b[0;34m'local[*]'\u001b[0m\u001b[0;34m)\u001b[0m\u001b[0;34m\u001b[0m\u001b[0;34m\u001b[0m\u001b[0m\n\u001b[0m\u001b[1;32m      8\u001b[0m \u001b[0mspark\u001b[0m \u001b[0;34m=\u001b[0m \u001b[0mSparkSession\u001b[0m\u001b[0;34m.\u001b[0m\u001b[0mbuilder\u001b[0m\u001b[0;34m.\u001b[0m\u001b[0mappName\u001b[0m\u001b[0;34m(\u001b[0m\u001b[0;34m'abc'\u001b[0m\u001b[0;34m)\u001b[0m\u001b[0;34m.\u001b[0m\u001b[0mgetOrCreate\u001b[0m\u001b[0;34m(\u001b[0m\u001b[0;34m)\u001b[0m\u001b[0;34m\u001b[0m\u001b[0;34m\u001b[0m\u001b[0m\n",
            "\u001b[0;32m/usr/local/lib/python3.11/dist-packages/pyspark/context.py\u001b[0m in \u001b[0;36m__init__\u001b[0;34m(self, master, appName, sparkHome, pyFiles, environment, batchSize, serializer, conf, gateway, jsc, profiler_cls, udf_profiler_cls, memory_profiler_cls)\u001b[0m\n\u001b[1;32m    199\u001b[0m             )\n\u001b[1;32m    200\u001b[0m \u001b[0;34m\u001b[0m\u001b[0m\n\u001b[0;32m--> 201\u001b[0;31m         \u001b[0mSparkContext\u001b[0m\u001b[0;34m.\u001b[0m\u001b[0m_ensure_initialized\u001b[0m\u001b[0;34m(\u001b[0m\u001b[0mself\u001b[0m\u001b[0;34m,\u001b[0m \u001b[0mgateway\u001b[0m\u001b[0;34m=\u001b[0m\u001b[0mgateway\u001b[0m\u001b[0;34m,\u001b[0m \u001b[0mconf\u001b[0m\u001b[0;34m=\u001b[0m\u001b[0mconf\u001b[0m\u001b[0;34m)\u001b[0m\u001b[0;34m\u001b[0m\u001b[0;34m\u001b[0m\u001b[0m\n\u001b[0m\u001b[1;32m    202\u001b[0m         \u001b[0;32mtry\u001b[0m\u001b[0;34m:\u001b[0m\u001b[0;34m\u001b[0m\u001b[0;34m\u001b[0m\u001b[0m\n\u001b[1;32m    203\u001b[0m             self._do_init(\n",
            "\u001b[0;32m/usr/local/lib/python3.11/dist-packages/pyspark/context.py\u001b[0m in \u001b[0;36m_ensure_initialized\u001b[0;34m(cls, instance, gateway, conf)\u001b[0m\n\u001b[1;32m    447\u001b[0m \u001b[0;34m\u001b[0m\u001b[0m\n\u001b[1;32m    448\u001b[0m                     \u001b[0;31m# Raise error if there is already a running Spark context\u001b[0m\u001b[0;34m\u001b[0m\u001b[0;34m\u001b[0m\u001b[0m\n\u001b[0;32m--> 449\u001b[0;31m                     raise ValueError(\n\u001b[0m\u001b[1;32m    450\u001b[0m                         \u001b[0;34m\"Cannot run multiple SparkContexts at once; \"\u001b[0m\u001b[0;34m\u001b[0m\u001b[0;34m\u001b[0m\u001b[0m\n\u001b[1;32m    451\u001b[0m                         \u001b[0;34m\"existing SparkContext(app=%s, master=%s)\"\u001b[0m\u001b[0;34m\u001b[0m\u001b[0;34m\u001b[0m\u001b[0m\n",
            "\u001b[0;31mValueError\u001b[0m: Cannot run multiple SparkContexts at once; existing SparkContext(app=pyspark-shell, master=local[*]) created by __init__ at <ipython-input-2-7ffd166e450c>:7 "
          ]
        }
      ]
    },
    {
      "cell_type": "markdown",
      "source": [
        "**ZADANIE 1** ------------------------------------------"
      ],
      "metadata": {
        "id": "qcfqPTfSnm1w"
      }
    },
    {
      "cell_type": "code",
      "source": [
        "df = spark.read.csv('all_weekly_excess_deaths.csv', header=True, inferSchema=True, sep=';')"
      ],
      "metadata": {
        "id": "Tuuo1tl3aRfm"
      },
      "execution_count": 97,
      "outputs": []
    },
    {
      "cell_type": "code",
      "source": [
        "df.show()"
      ],
      "metadata": {
        "colab": {
          "base_uri": "https://localhost:8080/"
        },
        "id": "WUrixhitbsK5",
        "outputId": "2d0e39ca-5ff3-4b42-abce-4573fe6907f7"
      },
      "execution_count": 98,
      "outputs": [
        {
          "output_type": "stream",
          "name": "stdout",
          "text": [
            "+---------+---------+-----------+----------+----------+----+----+----+----------+------------+------------+----------------+----------------+----------------+---------------------+----------------------+------------------------+\n",
            "|  country|   region|region_code|start_date|  end_date|days|year|week|population|total_deaths|covid_deaths| expected_deaths|   excess_deaths|non_covid_deaths|covid_deaths_per_100k|excess_deaths_per_100k|excess_deaths_pct_change|\n",
            "+---------+---------+-----------+----------+----------+----+----+----+----------+------------+------------+----------------+----------------+----------------+---------------------+----------------------+------------------------+\n",
            "|Australia|Australia|          0|01/01/2020|07/01/2020|   7|2020|   1|  25734100| 2497 deaths|         0.0|2463.11165730355|33.8883426964494|          2497.0|                  0.0|     0.131686527589655|      0.0137583461131225|\n",
            "|Australia|Australia|          0|08/01/2020|14/01/2020|   7|2020|   2|  25734100| 2510 deaths|         0.0|2458.27832397007| 51.721676029927|          2510.0|                  0.0|     0.200984981133698|      0.0210397966436924|\n",
            "|Australia|Australia|          0|15/01/2020|21/01/2020|   7|2020|   3|  25734100| 2501 deaths|         0.0|2436.44499063674|64.5550093632601|          2501.0|                  0.0|     0.250853961721063|      0.0264955743352897|\n",
            "|Australia|Australia|          0|22/01/2020|28/01/2020|   7|2020|   4|  25734100| 2597 deaths|         0.0|2436.61165730341|160.388342696594|          2597.0|                  0.0|     0.623252193379967|       0.065824335287838|\n",
            "|Australia|Australia|          0|29/01/2020|04/02/2020|   7|2020|   5|  25734100| 2510 deaths|         0.0|2425.94499063674| 84.055009363261|          2510.0|                  0.0|     0.326628906249921|      0.0346483575215772|\n",
            "|Australia|Australia|          0|05/02/2020|11/02/2020|   7|2020|   6|  25734100| 2530 deaths|         0.0|2433.27832397007| 96.721676029927|          2530.0|                  0.0|     0.375850237738748|      0.0397495325861936|\n",
            "|Australia|Australia|          0|12/02/2020|18/02/2020|   7|2020|   7|  25734100| 2613 deaths|         0.0|2453.44499063674|159.555009363261|          2613.0|                  0.0|      0.62001394788728|      0.0650330494354598|\n",
            "|Australia|Australia|          0|19/02/2020|25/02/2020|   7|2020|   8|  25734100| 2608 deaths|         0.0|2473.27832397007|134.721676029927|          2608.0|                  0.0|     0.523514232205234|      0.0544708918216992|\n",
            "|Australia|Australia|          0|26/02/2020|03/03/2020|   7|2020|   9|  25734100| 2678 deaths|         1.0|2444.93398876408|233.066011235922|          2677.0|  0.00388589459122332|     0.905669952459664|        0.09532609563571|\n",
            "|Australia|Australia|          0|04/03/2020|10/03/2020|   7|2020|  10|  25734100| 2602 deaths|         2.0|2482.73398876408|119.266011235923|          2600.0|  0.00777178918244664|     0.463455147978453|      0.0480381755659995|\n",
            "|Australia|Australia|          0|11/03/2020|17/03/2020|   7|2020|  11|  25734100| 2567 deaths|         2.0|2426.33398876408|140.666011235923|          2565.0|  0.00777178918244664|     0.546613292230631|      0.0579747107724338|\n",
            "|Australia|Australia|          0|18/03/2020|24/03/2020|   7|2020|  12|  25734100| 2680 deaths|         3.0|2472.13398876408|207.866011235922|          2677.0|     0.01165768377367|     0.807745408760835|      0.0840836346980702|\n",
            "|Australia|Australia|          0|25/03/2020|31/03/2020|   7|2020|  13|  25734100| 2759 deaths|        10.0|2472.13398876408|286.866011235922|          2749.0|   0.0388589459122332|      1.11473108146748|       0.116039831392528|\n",
            "|Australia|Australia|          0|01/04/2020|07/04/2020|   7|2020|  14|  25734100| 2854 deaths|        27.0|2489.13398876408|364.866011235923|          2827.0|     0.10491915396303|       1.4178308595829|       0.146583515746008|\n",
            "|Australia|Australia|          0|08/04/2020|14/04/2020|   7|2020|  15|  25734100| 2782 deaths|        17.0|2528.13398876408|253.866011235922|          2765.0|   0.0660602080507964|     0.986496559957108|       0.100416359403494|\n",
            "|Australia|Australia|          0|15/04/2020|21/04/2020|   7|2020|  16|  25734100| 2672 deaths|         5.0|2546.13398876408|125.866011235923|          2667.0|   0.0194294729561166|     0.489102052280525|       0.049434166383765|\n",
            "|Australia|Australia|          0|22/04/2020|28/04/2020|   7|2020|  17|  25734100| 2692 deaths|        22.0|2522.33398876408|169.666011235923|          2670.0|    0.085489681006913|     0.659304235376107|       0.067265481887693|\n",
            "|Australia|Australia|          0|29/04/2020|05/05/2020|   7|2020|  18|  25734100| 2656 deaths|         8.0|2565.13398876408|90.8660112359216|          2648.0|   0.0310871567297865|     0.353095741587705|      0.0354234950821037|\n",
            "|Australia|Australia|          0|06/05/2020|12/05/2020|   7|2020|  19|  25734100| 2806 deaths|         1.0|2684.33398876408|121.666011235922|          2805.0|  0.00388589459122332|     0.472781294997386|      0.0453244684697152|\n",
            "|Australia|Australia|          0|13/05/2020|19/05/2020|   7|2020|  20|  25734100| 2694 deaths|         2.0|2692.13398876408|1.86601123592118|          2692.0|  0.00777178918244664|   0.00725112296882805|     6.93134607604673E-4|\n",
            "+---------+---------+-----------+----------+----------+----+----+----+----------+------------+------------+----------------+----------------+----------------+---------------------+----------------------+------------------------+\n",
            "only showing top 20 rows\n",
            "\n"
          ]
        }
      ]
    },
    {
      "cell_type": "code",
      "source": [
        "from pyspark.sql.functions import col, substring,split"
      ],
      "metadata": {
        "id": "hUBu48xHdBIT"
      },
      "execution_count": 99,
      "outputs": []
    },
    {
      "cell_type": "code",
      "source": [
        "# Podziel tekst w kolumnie total_deaths na dwie części: przed i po pierwszej spacji\n",
        "split_col = split(col(\"total_deaths\"), \" \", 2)\n",
        "\n",
        "# Nowa kolumna z częścią przed spacją\n",
        "df = df.withColumn(\"total_deaths_number\", split_col.getItem(0))"
      ],
      "metadata": {
        "id": "tAEQV-Skdy7k"
      },
      "execution_count": 100,
      "outputs": []
    },
    {
      "cell_type": "code",
      "source": [
        "df.show()"
      ],
      "metadata": {
        "colab": {
          "base_uri": "https://localhost:8080/"
        },
        "id": "2EpJw2O_etDe",
        "outputId": "4bcf9a5a-5921-41e5-f739-30b4a964a86e"
      },
      "execution_count": 130,
      "outputs": [
        {
          "output_type": "stream",
          "name": "stdout",
          "text": [
            "+---------+---------+-----------+----------+----------+----+----+----+----------+------------+------------+----------------+----------------+----------------+---------------------+----------------------+------------------------+-------------------+\n",
            "|  country|   region|region_code|start_date|  end_date|days|year|week|population|total_deaths|covid_deaths| expected_deaths|   excess_deaths|non_covid_deaths|covid_deaths_per_100k|excess_deaths_per_100k|excess_deaths_pct_change|total_deaths_number|\n",
            "+---------+---------+-----------+----------+----------+----+----+----+----------+------------+------------+----------------+----------------+----------------+---------------------+----------------------+------------------------+-------------------+\n",
            "|Australia|Australia|          0|01/01/2020|07/01/2020|   7|2020|   1|  25734100| 2497 deaths|         0.0|2463.11165730355|33.8883426964494|          2497.0|                  0.0|     0.131686527589655|      0.0137583461131225|               2497|\n",
            "|Australia|Australia|          0|08/01/2020|14/01/2020|   7|2020|   2|  25734100| 2510 deaths|         0.0|2458.27832397007| 51.721676029927|          2510.0|                  0.0|     0.200984981133698|      0.0210397966436924|               2510|\n",
            "|Australia|Australia|          0|15/01/2020|21/01/2020|   7|2020|   3|  25734100| 2501 deaths|         0.0|2436.44499063674|64.5550093632601|          2501.0|                  0.0|     0.250853961721063|      0.0264955743352897|               2501|\n",
            "|Australia|Australia|          0|22/01/2020|28/01/2020|   7|2020|   4|  25734100| 2597 deaths|         0.0|2436.61165730341|160.388342696594|          2597.0|                  0.0|     0.623252193379967|       0.065824335287838|               2597|\n",
            "|Australia|Australia|          0|29/01/2020|04/02/2020|   7|2020|   5|  25734100| 2510 deaths|         0.0|2425.94499063674| 84.055009363261|          2510.0|                  0.0|     0.326628906249921|      0.0346483575215772|               2510|\n",
            "|Australia|Australia|          0|05/02/2020|11/02/2020|   7|2020|   6|  25734100| 2530 deaths|         0.0|2433.27832397007| 96.721676029927|          2530.0|                  0.0|     0.375850237738748|      0.0397495325861936|               2530|\n",
            "|Australia|Australia|          0|12/02/2020|18/02/2020|   7|2020|   7|  25734100| 2613 deaths|         0.0|2453.44499063674|159.555009363261|          2613.0|                  0.0|      0.62001394788728|      0.0650330494354598|               2613|\n",
            "|Australia|Australia|          0|19/02/2020|25/02/2020|   7|2020|   8|  25734100| 2608 deaths|         0.0|2473.27832397007|134.721676029927|          2608.0|                  0.0|     0.523514232205234|      0.0544708918216992|               2608|\n",
            "|Australia|Australia|          0|26/02/2020|03/03/2020|   7|2020|   9|  25734100| 2678 deaths|         1.0|2444.93398876408|233.066011235922|          2677.0|  0.00388589459122332|     0.905669952459664|        0.09532609563571|               2678|\n",
            "|Australia|Australia|          0|04/03/2020|10/03/2020|   7|2020|  10|  25734100| 2602 deaths|         2.0|2482.73398876408|119.266011235923|          2600.0|  0.00777178918244664|     0.463455147978453|      0.0480381755659995|               2602|\n",
            "|Australia|Australia|          0|11/03/2020|17/03/2020|   7|2020|  11|  25734100| 2567 deaths|         2.0|2426.33398876408|140.666011235923|          2565.0|  0.00777178918244664|     0.546613292230631|      0.0579747107724338|               2567|\n",
            "|Australia|Australia|          0|18/03/2020|24/03/2020|   7|2020|  12|  25734100| 2680 deaths|         3.0|2472.13398876408|207.866011235922|          2677.0|     0.01165768377367|     0.807745408760835|      0.0840836346980702|               2680|\n",
            "|Australia|Australia|          0|25/03/2020|31/03/2020|   7|2020|  13|  25734100| 2759 deaths|        10.0|2472.13398876408|286.866011235922|          2749.0|   0.0388589459122332|      1.11473108146748|       0.116039831392528|               2759|\n",
            "|Australia|Australia|          0|01/04/2020|07/04/2020|   7|2020|  14|  25734100| 2854 deaths|        27.0|2489.13398876408|364.866011235923|          2827.0|     0.10491915396303|       1.4178308595829|       0.146583515746008|               2854|\n",
            "|Australia|Australia|          0|08/04/2020|14/04/2020|   7|2020|  15|  25734100| 2782 deaths|        17.0|2528.13398876408|253.866011235922|          2765.0|   0.0660602080507964|     0.986496559957108|       0.100416359403494|               2782|\n",
            "|Australia|Australia|          0|15/04/2020|21/04/2020|   7|2020|  16|  25734100| 2672 deaths|         5.0|2546.13398876408|125.866011235923|          2667.0|   0.0194294729561166|     0.489102052280525|       0.049434166383765|               2672|\n",
            "|Australia|Australia|          0|22/04/2020|28/04/2020|   7|2020|  17|  25734100| 2692 deaths|        22.0|2522.33398876408|169.666011235923|          2670.0|    0.085489681006913|     0.659304235376107|       0.067265481887693|               2692|\n",
            "|Australia|Australia|          0|29/04/2020|05/05/2020|   7|2020|  18|  25734100| 2656 deaths|         8.0|2565.13398876408|90.8660112359216|          2648.0|   0.0310871567297865|     0.353095741587705|      0.0354234950821037|               2656|\n",
            "|Australia|Australia|          0|06/05/2020|12/05/2020|   7|2020|  19|  25734100| 2806 deaths|         1.0|2684.33398876408|121.666011235922|          2805.0|  0.00388589459122332|     0.472781294997386|      0.0453244684697152|               2806|\n",
            "|Australia|Australia|          0|13/05/2020|19/05/2020|   7|2020|  20|  25734100| 2694 deaths|         2.0|2692.13398876408|1.86601123592118|          2692.0|  0.00777178918244664|   0.00725112296882805|     6.93134607604673E-4|               2694|\n",
            "+---------+---------+-----------+----------+----------+----+----+----+----------+------------+------------+----------------+----------------+----------------+---------------------+----------------------+------------------------+-------------------+\n",
            "only showing top 20 rows\n",
            "\n"
          ]
        }
      ]
    },
    {
      "cell_type": "code",
      "source": [
        "df.printSchema()"
      ],
      "metadata": {
        "colab": {
          "base_uri": "https://localhost:8080/"
        },
        "id": "T_t64zYSexaC",
        "outputId": "c2ce9dbf-7d2a-4e52-f310-0d3c4d3d5f0a"
      },
      "execution_count": 102,
      "outputs": [
        {
          "output_type": "stream",
          "name": "stdout",
          "text": [
            "root\n",
            " |-- country: string (nullable = true)\n",
            " |-- region: string (nullable = true)\n",
            " |-- region_code: string (nullable = true)\n",
            " |-- start_date: string (nullable = true)\n",
            " |-- end_date: string (nullable = true)\n",
            " |-- days: integer (nullable = true)\n",
            " |-- year: integer (nullable = true)\n",
            " |-- week: integer (nullable = true)\n",
            " |-- population: integer (nullable = true)\n",
            " |-- total_deaths: string (nullable = true)\n",
            " |-- covid_deaths: double (nullable = true)\n",
            " |-- expected_deaths: double (nullable = true)\n",
            " |-- excess_deaths: double (nullable = true)\n",
            " |-- non_covid_deaths: double (nullable = true)\n",
            " |-- covid_deaths_per_100k: double (nullable = true)\n",
            " |-- excess_deaths_per_100k: double (nullable = true)\n",
            " |-- excess_deaths_pct_change: double (nullable = true)\n",
            " |-- total_deaths_number: string (nullable = true)\n",
            "\n"
          ]
        }
      ]
    },
    {
      "cell_type": "code",
      "source": [
        "df = df.withColumn(\"total_deaths_number\", col(\"total_deaths_number\").cast(\"int\"))"
      ],
      "metadata": {
        "id": "826FryXygTpk"
      },
      "execution_count": 103,
      "outputs": []
    },
    {
      "cell_type": "code",
      "source": [
        "# Napisałem samemu - potrzebne grupowanie po regionie\n",
        "df_total = df.select('total_deaths_number', 'country', 'region').orderBy('total_deaths_number', ascending=False)"
      ],
      "metadata": {
        "id": "s_eciM5zfQ5i"
      },
      "execution_count": 104,
      "outputs": []
    },
    {
      "cell_type": "code",
      "source": [
        "df_total.show()"
      ],
      "metadata": {
        "colab": {
          "base_uri": "https://localhost:8080/"
        },
        "id": "0FxrYN7FhQbs",
        "outputId": "333f25cf-1f92-4662-9a2c-8270d17ee951"
      },
      "execution_count": 105,
      "outputs": [
        {
          "output_type": "stream",
          "name": "stdout",
          "text": [
            "+-------------------+-------------+-------------+\n",
            "|total_deaths_number|      country|       region|\n",
            "+-------------------+-------------+-------------+\n",
            "|              86388|United States|United States|\n",
            "|              85319|United States|United States|\n",
            "|              84896|United States|United States|\n",
            "|              84420|United States|United States|\n",
            "|              83054|United States|United States|\n",
            "|              82186|United States|United States|\n",
            "|              81746|United States|United States|\n",
            "|              79114|United States|United States|\n",
            "|              77568|United States|United States|\n",
            "|              77003|United States|United States|\n",
            "|              76815|United States|United States|\n",
            "|              74346|United States|United States|\n",
            "|              73906|United States|United States|\n",
            "|              73536|United States|United States|\n",
            "|              72288|United States|United States|\n",
            "|              72025|United States|United States|\n",
            "|              69306|United States|United States|\n",
            "|              69127|United States|United States|\n",
            "|              69090|United States|United States|\n",
            "|              67442|United States|United States|\n",
            "+-------------------+-------------+-------------+\n",
            "only showing top 20 rows\n",
            "\n"
          ]
        }
      ]
    },
    {
      "cell_type": "code",
      "source": [
        "from pyspark.sql.functions import max\n",
        "\n",
        "df_total = (\n",
        "       df.select('total_deaths_number', 'country', 'region')\n",
        "      .groupBy('region')\n",
        "      .agg(sum('total_deaths_number').alias('all_week_deaths'))\n",
        "      .orderBy('all_week_deaths', ascending=False)\n",
        "      .limit(5)\n",
        ")\n",
        "\n",
        "df_total.show()"
      ],
      "metadata": {
        "colab": {
          "base_uri": "https://localhost:8080/"
        },
        "id": "K_GuOPdMiaT9",
        "outputId": "bebac935-9ba0-4345-c68f-833711dd33d7"
      },
      "execution_count": 148,
      "outputs": [
        {
          "output_type": "stream",
          "name": "stdout",
          "text": [
            "+-------------+---------------+\n",
            "|       region|all_week_deaths|\n",
            "+-------------+---------------+\n",
            "|United States|        4443319|\n",
            "|       Mexico|        1389879|\n",
            "|      Germany|        1327556|\n",
            "|      Britain|         946967|\n",
            "|       France|         873266|\n",
            "+-------------+---------------+\n",
            "\n"
          ]
        }
      ]
    },
    {
      "cell_type": "code",
      "source": [
        "from pyspark.sql.functions import lit\n",
        "df_top_deaths = df_total.withColumn(\"tuple_added\", lit(\"TOTAL DEATHS IN 2020\"))"
      ],
      "metadata": {
        "id": "cJ8LoRkskrX3"
      },
      "execution_count": 149,
      "outputs": []
    },
    {
      "cell_type": "code",
      "source": [
        "from pyspark.sql import functions as F"
      ],
      "metadata": {
        "id": "q56ouu1zvanF"
      },
      "execution_count": 150,
      "outputs": []
    },
    {
      "cell_type": "code",
      "source": [
        "# Dodanie kolumny ze średnią zgonów\n",
        "df_mean = (\n",
        "    df.groupBy('region')\n",
        "      .agg(F.round(F.mean('total_deaths_number'), 2).alias('avg_last_week_deaths'))\n",
        ")"
      ],
      "metadata": {
        "id": "21t-58yapVQM"
      },
      "execution_count": 151,
      "outputs": []
    },
    {
      "cell_type": "code",
      "source": [
        "df_mean.show()"
      ],
      "metadata": {
        "colab": {
          "base_uri": "https://localhost:8080/"
        },
        "id": "H6dJxPHkpn-L",
        "outputId": "83a8e70a-e991-4cd5-9302-a2b348a92b33"
      },
      "execution_count": 152,
      "outputs": [
        {
          "output_type": "stream",
          "name": "stdout",
          "text": [
            "+--------------------+--------------------+\n",
            "|              region|avg_last_week_deaths|\n",
            "+--------------------+--------------------+\n",
            "|                Utah|               427.9|\n",
            "|              Hawaii|              232.93|\n",
            "|    Pays de la Loire|              715.57|\n",
            "|           Minnesota|              981.68|\n",
            "|              Madrid|             1043.63|\n",
            "|              Sweden|             1836.54|\n",
            "|                Ohio|             2777.99|\n",
            "|            Coquimbo|               93.97|\n",
            "|            Asturias|              275.75|\n",
            "|           Balearics|              163.72|\n",
            "|             Britain|             13528.1|\n",
            "|              Biobio|              290.91|\n",
            "|             Corsica|               63.96|\n",
            "|              Aragón|              257.49|\n",
            "|            Lombardy|             2530.57|\n",
            "|             Germany|            19239.94|\n",
            "|Bourgogne-Franche...|               652.3|\n",
            "|            Arkansas|              737.31|\n",
            "|              Oregon|              780.54|\n",
            "|           Cantabria|                93.9|\n",
            "+--------------------+--------------------+\n",
            "only showing top 20 rows\n",
            "\n"
          ]
        }
      ]
    },
    {
      "cell_type": "code",
      "source": [
        "# Złącznie z poprzednim wynikiem\n",
        "df_total_with_avg = df_total.join(df_mean, on='region', how='left')"
      ],
      "metadata": {
        "id": "9fdh31bLvqvx"
      },
      "execution_count": 153,
      "outputs": []
    },
    {
      "cell_type": "code",
      "source": [
        "df_total_with_avg.show()"
      ],
      "metadata": {
        "colab": {
          "base_uri": "https://localhost:8080/"
        },
        "id": "7R2IU64Fvxyj",
        "outputId": "29d425b9-01fb-45d2-cee0-2fd89d8020e8"
      },
      "execution_count": 154,
      "outputs": [
        {
          "output_type": "stream",
          "name": "stdout",
          "text": [
            "+-------------+---------------+--------------------+\n",
            "|       region|all_week_deaths|avg_last_week_deaths|\n",
            "+-------------+---------------+--------------------+\n",
            "|United States|        4443319|            65342.93|\n",
            "|       Mexico|        1389879|            21382.75|\n",
            "|      Germany|        1327556|            19239.94|\n",
            "|      Britain|         946967|             13528.1|\n",
            "|       France|         873266|            12656.03|\n",
            "+-------------+---------------+--------------------+\n",
            "\n"
          ]
        }
      ]
    },
    {
      "cell_type": "code",
      "source": [
        "df_min_max = df.groupBy('region').agg(\n",
        "    F.min('total_deaths_number').alias('min_total_deaths'),\n",
        "    F.max('total_deaths_number').alias('max_total_deaths')\n",
        ")\n",
        "\n",
        "df_min_max.show()"
      ],
      "metadata": {
        "colab": {
          "base_uri": "https://localhost:8080/"
        },
        "id": "iGKP7IjZ1wB_",
        "outputId": "d4b0f101-b97f-40f2-a6ac-86161e6e4750"
      },
      "execution_count": 155,
      "outputs": [
        {
          "output_type": "stream",
          "name": "stdout",
          "text": [
            "+--------------------+----------------+----------------+\n",
            "|              region|min_total_deaths|max_total_deaths|\n",
            "+--------------------+----------------+----------------+\n",
            "|                Utah|             364|             557|\n",
            "|              Hawaii|             200|             281|\n",
            "|    Pays de la Loire|             236|             874|\n",
            "|           Minnesota|             797|            1406|\n",
            "|              Madrid|             257|            4599|\n",
            "|              Sweden|            1486|            2569|\n",
            "|                Ohio|            2363|            4245|\n",
            "|            Coquimbo|              19|             131|\n",
            "|            Asturias|              79|             437|\n",
            "|           Balearics|              50|             224|\n",
            "|             Britain|            9023|           24691|\n",
            "|              Biobio|              96|             377|\n",
            "|             Corsica|              16|              89|\n",
            "|              Aragón|              86|             458|\n",
            "|            Lombardy|             708|            7823|\n",
            "|             Germany|           16166|           25493|\n",
            "|Bourgogne-Franche...|             232|             951|\n",
            "|            Arkansas|             570|             986|\n",
            "|              Oregon|             683|             988|\n",
            "|           Cantabria|              35|             140|\n",
            "+--------------------+----------------+----------------+\n",
            "only showing top 20 rows\n",
            "\n"
          ]
        }
      ]
    },
    {
      "cell_type": "code",
      "source": [
        "df_total_with_min_max = df_total_with_avg.join(df_min_max, on='region', how='left')"
      ],
      "metadata": {
        "id": "nB29_TNv2P7d"
      },
      "execution_count": 156,
      "outputs": []
    },
    {
      "cell_type": "code",
      "source": [
        "df_total_with_min_max.show()"
      ],
      "metadata": {
        "colab": {
          "base_uri": "https://localhost:8080/"
        },
        "id": "fr8yKM0G2VRZ",
        "outputId": "a04a5050-d131-46e3-8d72-3a24c0e39718"
      },
      "execution_count": 157,
      "outputs": [
        {
          "output_type": "stream",
          "name": "stdout",
          "text": [
            "+-------------+---------------+--------------------+----------------+----------------+\n",
            "|       region|all_week_deaths|avg_last_week_deaths|min_total_deaths|max_total_deaths|\n",
            "+-------------+---------------+--------------------+----------------+----------------+\n",
            "|United States|        4443319|            65342.93|           50995|           86388|\n",
            "|       Mexico|        1389879|            21382.75|           13170|           43652|\n",
            "|      Germany|        1327556|            19239.94|           16166|           25493|\n",
            "|      Britain|         946967|             13528.1|            9023|           24691|\n",
            "|       France|         873266|            12656.03|            3993|           18767|\n",
            "+-------------+---------------+--------------------+----------------+----------------+\n",
            "\n"
          ]
        }
      ]
    }
  ]
}