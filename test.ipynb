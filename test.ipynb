{
  "nbformat": 4,
  "nbformat_minor": 0,
  "metadata": {
    "colab": {
      "provenance": [],
      "authorship_tag": "ABX9TyPvKQ5uxX3iik9K3WzstbXD",
      "include_colab_link": true
    },
    "kernelspec": {
      "name": "python3",
      "display_name": "Python 3"
    },
    "language_info": {
      "name": "python"
    }
  },
  "cells": [
    {
      "cell_type": "markdown",
      "metadata": {
        "id": "view-in-github",
        "colab_type": "text"
      },
      "source": [
        "<a href=\"https://colab.research.google.com/github/Xeesto/UEP/blob/dev/test.ipynb\" target=\"_parent\"><img src=\"https://colab.research.google.com/assets/colab-badge.svg\" alt=\"Open In Colab\"/></a>"
      ]
    },
    {
      "cell_type": "code",
      "execution_count": null,
      "metadata": {
        "id": "DxjFN2G4cH6j"
      },
      "outputs": [],
      "source": [
        "#import necessary libraries\n",
        "import pandas as pd\n",
        "import numpy as np\n",
        "import matplotlib.pyplot as plt\n",
        "import seaborn as sns\n",
        "from sklearn.preprocessing import LabelEncoder\n",
        "from sklearn.preprocessing import MultiLabelBinarizer"
      ]
    },
    {
      "cell_type": "code",
      "source": [
        "# pip install kagglehub[pandas-datasets]\n",
        "import kagglehub\n",
        "from kagglehub import KaggleDatasetAdapter\n",
        "\n",
        "# Set the path to the file you'd like to load\n",
        "file_path = \"train.csv\"\n",
        "\n",
        "# Load the latest version\n",
        "df = kagglehub.load_dataset(KaggleDatasetAdapter.PANDAS, \"parisrohan/credit-score-classification\", file_path,)\n",
        "\n",
        "print(\"First 5 records:\", df.head())\n",
        "\n",
        "print(df.shape)"
      ],
      "metadata": {
        "colab": {
          "base_uri": "https://localhost:8080/"
        },
        "id": "opThdyoPLzej",
        "outputId": "99463731-b78c-46b2-cc82-3b039c35862f"
      },
      "execution_count": null,
      "outputs": [
        {
          "output_type": "stream",
          "name": "stderr",
          "text": [
            "<ipython-input-2-036c7161ed4c>:9: DeprecationWarning: load_dataset is deprecated and will be removed in future version.\n",
            "  df = kagglehub.load_dataset(KaggleDatasetAdapter.PANDAS, \"parisrohan/credit-score-classification\", file_path,)\n"
          ]
        },
        {
          "output_type": "stream",
          "name": "stdout",
          "text": [
            "Downloading from https://www.kaggle.com/api/v1/datasets/download/parisrohan/credit-score-classification?dataset_version_number=1&file_name=train.csv...\n"
          ]
        },
        {
          "output_type": "stream",
          "name": "stderr",
          "text": [
            "100%|██████████| 6.09M/6.09M [00:01<00:00, 6.07MB/s]"
          ]
        },
        {
          "output_type": "stream",
          "name": "stdout",
          "text": [
            "Extracting zip of train.csv...\n"
          ]
        },
        {
          "output_type": "stream",
          "name": "stderr",
          "text": [
            "\n"
          ]
        },
        {
          "output_type": "stream",
          "name": "stdout",
          "text": [
            "First 5 records:        ID Customer_ID     Month           Name   Age          SSN Occupation  \\\n",
            "0  0x1602   CUS_0xd40   January  Aaron Maashoh    23  821-00-0265  Scientist   \n",
            "1  0x1603   CUS_0xd40  February  Aaron Maashoh    23  821-00-0265  Scientist   \n",
            "2  0x1604   CUS_0xd40     March  Aaron Maashoh  -500  821-00-0265  Scientist   \n",
            "3  0x1605   CUS_0xd40     April  Aaron Maashoh    23  821-00-0265  Scientist   \n",
            "4  0x1606   CUS_0xd40       May  Aaron Maashoh    23  821-00-0265  Scientist   \n",
            "\n",
            "  Annual_Income  Monthly_Inhand_Salary  Num_Bank_Accounts  ...  Credit_Mix  \\\n",
            "0      19114.12            1824.843333                  3  ...           _   \n",
            "1      19114.12                    NaN                  3  ...        Good   \n",
            "2      19114.12                    NaN                  3  ...        Good   \n",
            "3      19114.12                    NaN                  3  ...        Good   \n",
            "4      19114.12            1824.843333                  3  ...        Good   \n",
            "\n",
            "   Outstanding_Debt Credit_Utilization_Ratio     Credit_History_Age  \\\n",
            "0            809.98                26.822620  22 Years and 1 Months   \n",
            "1            809.98                31.944960                    NaN   \n",
            "2            809.98                28.609352  22 Years and 3 Months   \n",
            "3            809.98                31.377862  22 Years and 4 Months   \n",
            "4            809.98                24.797347  22 Years and 5 Months   \n",
            "\n",
            "   Payment_of_Min_Amount Total_EMI_per_month Amount_invested_monthly  \\\n",
            "0                     No           49.574949       80.41529543900253   \n",
            "1                     No           49.574949      118.28022162236736   \n",
            "2                     No           49.574949         81.699521264648   \n",
            "3                     No           49.574949       199.4580743910713   \n",
            "4                     No           49.574949      41.420153086217326   \n",
            "\n",
            "                  Payment_Behaviour     Monthly_Balance Credit_Score  \n",
            "0   High_spent_Small_value_payments  312.49408867943663         Good  \n",
            "1    Low_spent_Large_value_payments  284.62916249607184         Good  \n",
            "2   Low_spent_Medium_value_payments   331.2098628537912         Good  \n",
            "3    Low_spent_Small_value_payments  223.45130972736786         Good  \n",
            "4  High_spent_Medium_value_payments  341.48923103222177         Good  \n",
            "\n",
            "[5 rows x 28 columns]\n",
            "(100000, 28)\n"
          ]
        },
        {
          "output_type": "stream",
          "name": "stderr",
          "text": [
            "/usr/local/lib/python3.11/dist-packages/kagglehub/pandas_datasets.py:91: DtypeWarning: Columns (26) have mixed types. Specify dtype option on import or set low_memory=False.\n",
            "  result = read_function(\n"
          ]
        }
      ]
    },
    {
      "cell_type": "code",
      "source": [
        "# Usuń duplikaty oraz usuń kolumny, które nie będą wykorzystywane w analizie ['ID','Customer_ID','SSN','Name']\n",
        "\n",
        "df = df.drop_duplicates()\n",
        "\n",
        "print(df.shape)\n",
        "\n",
        "###\n",
        "\n",
        "df = df.drop(columns=['ID','Customer_ID', 'SSN', 'Name'])\n",
        "\n",
        "print(df.shape)"
      ],
      "metadata": {
        "colab": {
          "base_uri": "https://localhost:8080/"
        },
        "id": "wYzcXsejNVOr",
        "outputId": "77b42238-1080-436b-cbca-3f3568ea8197"
      },
      "execution_count": null,
      "outputs": [
        {
          "output_type": "stream",
          "name": "stdout",
          "text": [
            "(100000, 28)\n",
            "(100000, 24)\n"
          ]
        }
      ]
    },
    {
      "cell_type": "code",
      "source": [
        "# Usuwanie znaków '-' i '_' z nagłówków kolumn\n",
        "df.columns = df.columns.str.replace('-', '').str.replace('_', '')\n",
        "\n",
        "# Zamiana pustych ciągów na NaN\n",
        "df.replace(\"\", np.nan, inplace=True)\n",
        "\n",
        "# Wyświetlanie pierwszych 10 wierszy\n",
        "print(df.head(10))\n"
      ],
      "metadata": {
        "colab": {
          "base_uri": "https://localhost:8080/"
        },
        "id": "HSKqMJEKQqxd",
        "outputId": "5f04a89a-f458-4480-c857-c0a093143319"
      },
      "execution_count": null,
      "outputs": [
        {
          "output_type": "stream",
          "name": "stdout",
          "text": [
            "      Month   Age Occupation AnnualIncome  MonthlyInhandSalary  \\\n",
            "0   January    23  Scientist     19114.12          1824.843333   \n",
            "1  February    23  Scientist     19114.12                  NaN   \n",
            "2     March  -500  Scientist     19114.12                  NaN   \n",
            "3     April    23  Scientist     19114.12                  NaN   \n",
            "4       May    23  Scientist     19114.12          1824.843333   \n",
            "5      June    23  Scientist     19114.12                  NaN   \n",
            "6      July    23  Scientist     19114.12          1824.843333   \n",
            "7    August    23  Scientist     19114.12          1824.843333   \n",
            "8   January   28_    _______     34847.84          3037.986667   \n",
            "9  February    28    Teacher     34847.84          3037.986667   \n",
            "\n",
            "   NumBankAccounts  NumCreditCard  InterestRate NumofLoan  \\\n",
            "0                3              4             3         4   \n",
            "1                3              4             3         4   \n",
            "2                3              4             3         4   \n",
            "3                3              4             3         4   \n",
            "4                3              4             3         4   \n",
            "5                3              4             3         4   \n",
            "6                3              4             3         4   \n",
            "7                3              4             3         4   \n",
            "8                2              4             6         1   \n",
            "9                2              4             6         1   \n",
            "\n",
            "                                          TypeofLoan  ...  CreditMix  \\\n",
            "0  Auto Loan, Credit-Builder Loan, Personal Loan,...  ...          _   \n",
            "1  Auto Loan, Credit-Builder Loan, Personal Loan,...  ...       Good   \n",
            "2  Auto Loan, Credit-Builder Loan, Personal Loan,...  ...       Good   \n",
            "3  Auto Loan, Credit-Builder Loan, Personal Loan,...  ...       Good   \n",
            "4  Auto Loan, Credit-Builder Loan, Personal Loan,...  ...       Good   \n",
            "5  Auto Loan, Credit-Builder Loan, Personal Loan,...  ...       Good   \n",
            "6  Auto Loan, Credit-Builder Loan, Personal Loan,...  ...       Good   \n",
            "7  Auto Loan, Credit-Builder Loan, Personal Loan,...  ...       Good   \n",
            "8                                Credit-Builder Loan  ...       Good   \n",
            "9                                Credit-Builder Loan  ...       Good   \n",
            "\n",
            "  OutstandingDebt CreditUtilizationRatio       CreditHistoryAge  \\\n",
            "0          809.98              26.822620  22 Years and 1 Months   \n",
            "1          809.98              31.944960                    NaN   \n",
            "2          809.98              28.609352  22 Years and 3 Months   \n",
            "3          809.98              31.377862  22 Years and 4 Months   \n",
            "4          809.98              24.797347  22 Years and 5 Months   \n",
            "5          809.98              27.262259  22 Years and 6 Months   \n",
            "6          809.98              22.537593  22 Years and 7 Months   \n",
            "7          809.98              23.933795                    NaN   \n",
            "8          605.03              24.464031  26 Years and 7 Months   \n",
            "9          605.03              38.550848  26 Years and 8 Months   \n",
            "\n",
            "  PaymentofMinAmount TotalEMIpermonth  Amountinvestedmonthly  \\\n",
            "0                 No        49.574949      80.41529543900253   \n",
            "1                 No        49.574949     118.28022162236736   \n",
            "2                 No        49.574949        81.699521264648   \n",
            "3                 No        49.574949      199.4580743910713   \n",
            "4                 No        49.574949     41.420153086217326   \n",
            "5                 No        49.574949     62.430172331195294   \n",
            "6                 No        49.574949      178.3440674122349   \n",
            "7                 No        49.574949     24.785216509052056   \n",
            "8                 No        18.816215       104.291825168246   \n",
            "9                 No        18.816215      40.39123782853101   \n",
            "\n",
            "                   PaymentBehaviour      MonthlyBalance  CreditScore  \n",
            "0   High_spent_Small_value_payments  312.49408867943663         Good  \n",
            "1    Low_spent_Large_value_payments  284.62916249607184         Good  \n",
            "2   Low_spent_Medium_value_payments   331.2098628537912         Good  \n",
            "3    Low_spent_Small_value_payments  223.45130972736786         Good  \n",
            "4  High_spent_Medium_value_payments  341.48923103222177         Good  \n",
            "5                            !@9#%8   340.4792117872438         Good  \n",
            "6    Low_spent_Small_value_payments   244.5653167062043         Good  \n",
            "7  High_spent_Medium_value_payments  358.12416760938714     Standard  \n",
            "8    Low_spent_Small_value_payments  470.69062692529184     Standard  \n",
            "9   High_spent_Large_value_payments   484.5912142650067         Good  \n",
            "\n",
            "[10 rows x 24 columns]\n"
          ]
        }
      ]
    },
    {
      "cell_type": "code",
      "source": [
        "print(df[\"Month\"].unique())\n"
      ],
      "metadata": {
        "colab": {
          "base_uri": "https://localhost:8080/"
        },
        "id": "UQFHgMJPc3N_",
        "outputId": "2b6900bb-830b-4778-ac49-902c4d01ced0"
      },
      "execution_count": null,
      "outputs": [
        {
          "output_type": "stream",
          "name": "stdout",
          "text": [
            "[1 2 3 4 5 6 7 8]\n"
          ]
        }
      ]
    },
    {
      "cell_type": "code",
      "source": [
        "# Zmień nazwy miesiecy na zmienne liczbowe zgodnie z kolejnością miesięcy\n",
        "\n",
        "# Utworzenie słownika\n",
        "month_mapping = {\n",
        "    \"January\": 1, \"February\": 2, \"March\": 3, \"April\": 4, \"May\": 5, \"June\": 6,\n",
        "    \"July\": 7, \"August\": 8, \"September\": 9, \"October\": 10, \"November\": 11, \"December\": 12\n",
        "}\n",
        "\n",
        "# Mapowanie kolumny \"Month\"\n",
        "df[\"Month\"] = df[\"Month\"].replace(month_mapping)\n",
        "\n",
        "# Wyświetlenie wyniku\n",
        "print(df.head(20))"
      ],
      "metadata": {
        "colab": {
          "base_uri": "https://localhost:8080/"
        },
        "id": "xmRH9tzZTGR9",
        "outputId": "2dcad7f2-8039-4f07-942c-936d3f4f39b2"
      },
      "execution_count": null,
      "outputs": [
        {
          "output_type": "stream",
          "name": "stdout",
          "text": [
            "    Month   Age Occupation AnnualIncome  MonthlyInhandSalary  NumBankAccounts  \\\n",
            "0       1    23  Scientist     19114.12          1824.843333                3   \n",
            "1       2    23  Scientist     19114.12                  NaN                3   \n",
            "2       3  -500  Scientist     19114.12                  NaN                3   \n",
            "3       4    23  Scientist     19114.12                  NaN                3   \n",
            "4       5    23  Scientist     19114.12          1824.843333                3   \n",
            "5       6    23  Scientist     19114.12                  NaN                3   \n",
            "6       7    23  Scientist     19114.12          1824.843333                3   \n",
            "7       8    23  Scientist     19114.12          1824.843333                3   \n",
            "8       1   28_    _______     34847.84          3037.986667                2   \n",
            "9       2    28    Teacher     34847.84          3037.986667                2   \n",
            "10      3    28    Teacher    34847.84_          3037.986667                2   \n",
            "11      4    28    Teacher     34847.84                  NaN                2   \n",
            "12      5    28    Teacher     34847.84          3037.986667                2   \n",
            "13      6    28    Teacher     34847.84          3037.986667                2   \n",
            "14      7    28    Teacher     34847.84                  NaN                2   \n",
            "15      8    28    Teacher     34847.84          3037.986667                2   \n",
            "16      1    34    _______    143162.64         12187.220000                1   \n",
            "17      2    34   Engineer    143162.64         12187.220000                1   \n",
            "18      3    34    _______    143162.64                  NaN                1   \n",
            "19      4    34   Engineer    143162.64         12187.220000                1   \n",
            "\n",
            "    NumCreditCard  InterestRate NumofLoan  \\\n",
            "0               4             3         4   \n",
            "1               4             3         4   \n",
            "2               4             3         4   \n",
            "3               4             3         4   \n",
            "4               4             3         4   \n",
            "5               4             3         4   \n",
            "6               4             3         4   \n",
            "7               4             3         4   \n",
            "8               4             6         1   \n",
            "9               4             6         1   \n",
            "10           1385             6         1   \n",
            "11              4             6         1   \n",
            "12              4             6         1   \n",
            "13              4             6         1   \n",
            "14              4             6         1   \n",
            "15              4             6         1   \n",
            "16              5             8         3   \n",
            "17              5             8         3   \n",
            "18              5             8         3   \n",
            "19              5             8         3   \n",
            "\n",
            "                                           TypeofLoan  ...  CreditMix  \\\n",
            "0   Auto Loan, Credit-Builder Loan, Personal Loan,...  ...          _   \n",
            "1   Auto Loan, Credit-Builder Loan, Personal Loan,...  ...       Good   \n",
            "2   Auto Loan, Credit-Builder Loan, Personal Loan,...  ...       Good   \n",
            "3   Auto Loan, Credit-Builder Loan, Personal Loan,...  ...       Good   \n",
            "4   Auto Loan, Credit-Builder Loan, Personal Loan,...  ...       Good   \n",
            "5   Auto Loan, Credit-Builder Loan, Personal Loan,...  ...       Good   \n",
            "6   Auto Loan, Credit-Builder Loan, Personal Loan,...  ...       Good   \n",
            "7   Auto Loan, Credit-Builder Loan, Personal Loan,...  ...       Good   \n",
            "8                                 Credit-Builder Loan  ...       Good   \n",
            "9                                 Credit-Builder Loan  ...       Good   \n",
            "10                                Credit-Builder Loan  ...          _   \n",
            "11                                Credit-Builder Loan  ...       Good   \n",
            "12                                Credit-Builder Loan  ...       Good   \n",
            "13                                Credit-Builder Loan  ...       Good   \n",
            "14                                Credit-Builder Loan  ...       Good   \n",
            "15                                Credit-Builder Loan  ...       Good   \n",
            "16            Auto Loan, Auto Loan, and Not Specified  ...       Good   \n",
            "17            Auto Loan, Auto Loan, and Not Specified  ...       Good   \n",
            "18            Auto Loan, Auto Loan, and Not Specified  ...       Good   \n",
            "19            Auto Loan, Auto Loan, and Not Specified  ...          _   \n",
            "\n",
            "   OutstandingDebt CreditUtilizationRatio        CreditHistoryAge  \\\n",
            "0           809.98              26.822620   22 Years and 1 Months   \n",
            "1           809.98              31.944960                     NaN   \n",
            "2           809.98              28.609352   22 Years and 3 Months   \n",
            "3           809.98              31.377862   22 Years and 4 Months   \n",
            "4           809.98              24.797347   22 Years and 5 Months   \n",
            "5           809.98              27.262259   22 Years and 6 Months   \n",
            "6           809.98              22.537593   22 Years and 7 Months   \n",
            "7           809.98              23.933795                     NaN   \n",
            "8           605.03              24.464031   26 Years and 7 Months   \n",
            "9           605.03              38.550848   26 Years and 8 Months   \n",
            "10          605.03              33.224951   26 Years and 9 Months   \n",
            "11          605.03              39.182656  26 Years and 10 Months   \n",
            "12          605.03              34.977895  26 Years and 11 Months   \n",
            "13          605.03              33.381010   27 Years and 0 Months   \n",
            "14          605.03              31.131702   27 Years and 1 Months   \n",
            "15          605.03              32.933856   27 Years and 2 Months   \n",
            "16         1303.01              28.616735   17 Years and 9 Months   \n",
            "17         1303.01              41.702573  17 Years and 10 Months   \n",
            "18         1303.01              26.519815  17 Years and 11 Months   \n",
            "19         1303.01              39.501648                     NaN   \n",
            "\n",
            "   PaymentofMinAmount TotalEMIpermonth  Amountinvestedmonthly  \\\n",
            "0                  No        49.574949      80.41529543900253   \n",
            "1                  No        49.574949     118.28022162236736   \n",
            "2                  No        49.574949        81.699521264648   \n",
            "3                  No        49.574949      199.4580743910713   \n",
            "4                  No        49.574949     41.420153086217326   \n",
            "5                  No        49.574949     62.430172331195294   \n",
            "6                  No        49.574949      178.3440674122349   \n",
            "7                  No        49.574949     24.785216509052056   \n",
            "8                  No        18.816215       104.291825168246   \n",
            "9                  No        18.816215      40.39123782853101   \n",
            "10                 No        18.816215      58.51597569589465   \n",
            "11                 No        18.816215      99.30622796053305   \n",
            "12                 No        18.816215     130.11542024292334   \n",
            "13                 No        18.816215     43.477190144355745   \n",
            "14                 NM        18.816215      70.10177420755677   \n",
            "15                 No        18.816215     218.90434353388733   \n",
            "16                 No       246.992319       168.413702679309   \n",
            "17                 No       246.992319     232.86038375993544   \n",
            "18                 No       246.992319              __10000__   \n",
            "19                 No       246.992319      825.2162699393922   \n",
            "\n",
            "                    PaymentBehaviour      MonthlyBalance  CreditScore  \n",
            "0    High_spent_Small_value_payments  312.49408867943663         Good  \n",
            "1     Low_spent_Large_value_payments  284.62916249607184         Good  \n",
            "2    Low_spent_Medium_value_payments   331.2098628537912         Good  \n",
            "3     Low_spent_Small_value_payments  223.45130972736786         Good  \n",
            "4   High_spent_Medium_value_payments  341.48923103222177         Good  \n",
            "5                             !@9#%8   340.4792117872438         Good  \n",
            "6     Low_spent_Small_value_payments   244.5653167062043         Good  \n",
            "7   High_spent_Medium_value_payments  358.12416760938714     Standard  \n",
            "8     Low_spent_Small_value_payments  470.69062692529184     Standard  \n",
            "9    High_spent_Large_value_payments   484.5912142650067         Good  \n",
            "10   High_spent_Large_value_payments  466.46647639764313     Standard  \n",
            "11   Low_spent_Medium_value_payments   465.6762241330048         Good  \n",
            "12    Low_spent_Small_value_payments   444.8670318506144         Good  \n",
            "13   High_spent_Large_value_payments    481.505261949182         Good  \n",
            "14  High_spent_Medium_value_payments   464.8806778859809         Good  \n",
            "15    Low_spent_Small_value_payments  356.07810855965045         Good  \n",
            "16                            !@9#%8  1043.3159778669492         Good  \n",
            "17   High_spent_Small_value_payments   998.8692967863226         Good  \n",
            "18   High_spent_Small_value_payments    715.741367403555         Good  \n",
            "19   Low_spent_Medium_value_payments   426.5134106068658         Good  \n",
            "\n",
            "[20 rows x 24 columns]\n"
          ]
        },
        {
          "output_type": "stream",
          "name": "stderr",
          "text": [
            "<ipython-input-5-669ebe68bd68>:10: FutureWarning: Downcasting behavior in `replace` is deprecated and will be removed in a future version. To retain the old behavior, explicitly call `result.infer_objects(copy=False)`. To opt-in to the future behavior, set `pd.set_option('future.no_silent_downcasting', True)`\n",
            "  df[\"Month\"] = df[\"Month\"].replace(month_mapping)\n"
          ]
        }
      ]
    },
    {
      "cell_type": "code",
      "source": [
        "# Zakoduj zmienne tekstowe: 'Occupation', 'Type_of_Loan', 'Payment_Behaviour', 'Credit_Mix', użyj LabelEncodera\n",
        "\n",
        "from sklearn.preprocessing import LabelEncoder\n",
        "\n",
        "# stwórz obiekt enkodera\n",
        "le = LabelEncoder()\n",
        "\n",
        "# Zakodowanie kolumn\n",
        "df['Occupation'] = le.fit_transform(df['Occupation'])\n",
        "df['Type_of_Loan'] = le.fit_transform(df['Type_of_Loan'])\n",
        "df['Payment_Behaviour'] = le.fit_transform(df['Payment_Behaviour'])\n",
        "df['Credit_Mix'] = le.fit_transform(df['Credit_Mix'])\n",
        "\n",
        "# sprawdź transformacje\n",
        "df.head()"
      ],
      "metadata": {
        "colab": {
          "base_uri": "https://localhost:8080/",
          "height": 790
        },
        "id": "xnAG7E0nXRGe",
        "outputId": "d49e5b17-ccf2-44d4-95f9-77724c020339"
      },
      "execution_count": null,
      "outputs": [
        {
          "output_type": "error",
          "ename": "KeyError",
          "evalue": "'Type_of_Loan'",
          "traceback": [
            "\u001b[0;31m---------------------------------------------------------------------------\u001b[0m",
            "\u001b[0;31mKeyError\u001b[0m                                  Traceback (most recent call last)",
            "\u001b[0;32m/usr/local/lib/python3.11/dist-packages/pandas/core/indexes/base.py\u001b[0m in \u001b[0;36mget_loc\u001b[0;34m(self, key)\u001b[0m\n\u001b[1;32m   3804\u001b[0m         \u001b[0;32mtry\u001b[0m\u001b[0;34m:\u001b[0m\u001b[0;34m\u001b[0m\u001b[0;34m\u001b[0m\u001b[0m\n\u001b[0;32m-> 3805\u001b[0;31m             \u001b[0;32mreturn\u001b[0m \u001b[0mself\u001b[0m\u001b[0;34m.\u001b[0m\u001b[0m_engine\u001b[0m\u001b[0;34m.\u001b[0m\u001b[0mget_loc\u001b[0m\u001b[0;34m(\u001b[0m\u001b[0mcasted_key\u001b[0m\u001b[0;34m)\u001b[0m\u001b[0;34m\u001b[0m\u001b[0;34m\u001b[0m\u001b[0m\n\u001b[0m\u001b[1;32m   3806\u001b[0m         \u001b[0;32mexcept\u001b[0m \u001b[0mKeyError\u001b[0m \u001b[0;32mas\u001b[0m \u001b[0merr\u001b[0m\u001b[0;34m:\u001b[0m\u001b[0;34m\u001b[0m\u001b[0;34m\u001b[0m\u001b[0m\n",
            "\u001b[0;32mindex.pyx\u001b[0m in \u001b[0;36mpandas._libs.index.IndexEngine.get_loc\u001b[0;34m()\u001b[0m\n",
            "\u001b[0;32mindex.pyx\u001b[0m in \u001b[0;36mpandas._libs.index.IndexEngine.get_loc\u001b[0;34m()\u001b[0m\n",
            "\u001b[0;32mpandas/_libs/hashtable_class_helper.pxi\u001b[0m in \u001b[0;36mpandas._libs.hashtable.PyObjectHashTable.get_item\u001b[0;34m()\u001b[0m\n",
            "\u001b[0;32mpandas/_libs/hashtable_class_helper.pxi\u001b[0m in \u001b[0;36mpandas._libs.hashtable.PyObjectHashTable.get_item\u001b[0;34m()\u001b[0m\n",
            "\u001b[0;31mKeyError\u001b[0m: 'Type_of_Loan'",
            "\nThe above exception was the direct cause of the following exception:\n",
            "\u001b[0;31mKeyError\u001b[0m                                  Traceback (most recent call last)",
            "\u001b[0;32m<ipython-input-13-ba000c6e830f>\u001b[0m in \u001b[0;36m<cell line: 0>\u001b[0;34m()\u001b[0m\n\u001b[1;32m      8\u001b[0m \u001b[0;31m# Zakodowanie kolumn\u001b[0m\u001b[0;34m\u001b[0m\u001b[0;34m\u001b[0m\u001b[0m\n\u001b[1;32m      9\u001b[0m \u001b[0mdf\u001b[0m\u001b[0;34m[\u001b[0m\u001b[0;34m'Occupation'\u001b[0m\u001b[0;34m]\u001b[0m \u001b[0;34m=\u001b[0m \u001b[0mle\u001b[0m\u001b[0;34m.\u001b[0m\u001b[0mfit_transform\u001b[0m\u001b[0;34m(\u001b[0m\u001b[0mdf\u001b[0m\u001b[0;34m[\u001b[0m\u001b[0;34m'Occupation'\u001b[0m\u001b[0;34m]\u001b[0m\u001b[0;34m)\u001b[0m\u001b[0;34m\u001b[0m\u001b[0;34m\u001b[0m\u001b[0m\n\u001b[0;32m---> 10\u001b[0;31m \u001b[0mdf\u001b[0m\u001b[0;34m[\u001b[0m\u001b[0;34m'Type_of_Loan'\u001b[0m\u001b[0;34m]\u001b[0m \u001b[0;34m=\u001b[0m \u001b[0mle\u001b[0m\u001b[0;34m.\u001b[0m\u001b[0mfit_transform\u001b[0m\u001b[0;34m(\u001b[0m\u001b[0mdf\u001b[0m\u001b[0;34m[\u001b[0m\u001b[0;34m'Type_of_Loan'\u001b[0m\u001b[0;34m]\u001b[0m\u001b[0;34m)\u001b[0m\u001b[0;34m\u001b[0m\u001b[0;34m\u001b[0m\u001b[0m\n\u001b[0m\u001b[1;32m     11\u001b[0m \u001b[0mdf\u001b[0m\u001b[0;34m[\u001b[0m\u001b[0;34m'Payment_Behaviour'\u001b[0m\u001b[0;34m]\u001b[0m \u001b[0;34m=\u001b[0m \u001b[0mle\u001b[0m\u001b[0;34m.\u001b[0m\u001b[0mfit_transform\u001b[0m\u001b[0;34m(\u001b[0m\u001b[0mdf\u001b[0m\u001b[0;34m[\u001b[0m\u001b[0;34m'Payment_Behaviour'\u001b[0m\u001b[0;34m]\u001b[0m\u001b[0;34m)\u001b[0m\u001b[0;34m\u001b[0m\u001b[0;34m\u001b[0m\u001b[0m\n\u001b[1;32m     12\u001b[0m \u001b[0mdf\u001b[0m\u001b[0;34m[\u001b[0m\u001b[0;34m'Credit_Mix'\u001b[0m\u001b[0;34m]\u001b[0m \u001b[0;34m=\u001b[0m \u001b[0mle\u001b[0m\u001b[0;34m.\u001b[0m\u001b[0mfit_transform\u001b[0m\u001b[0;34m(\u001b[0m\u001b[0mdf\u001b[0m\u001b[0;34m[\u001b[0m\u001b[0;34m'Credit_Mix'\u001b[0m\u001b[0;34m]\u001b[0m\u001b[0;34m)\u001b[0m\u001b[0;34m\u001b[0m\u001b[0;34m\u001b[0m\u001b[0m\n",
            "\u001b[0;32m/usr/local/lib/python3.11/dist-packages/pandas/core/frame.py\u001b[0m in \u001b[0;36m__getitem__\u001b[0;34m(self, key)\u001b[0m\n\u001b[1;32m   4100\u001b[0m             \u001b[0;32mif\u001b[0m \u001b[0mself\u001b[0m\u001b[0;34m.\u001b[0m\u001b[0mcolumns\u001b[0m\u001b[0;34m.\u001b[0m\u001b[0mnlevels\u001b[0m \u001b[0;34m>\u001b[0m \u001b[0;36m1\u001b[0m\u001b[0;34m:\u001b[0m\u001b[0;34m\u001b[0m\u001b[0;34m\u001b[0m\u001b[0m\n\u001b[1;32m   4101\u001b[0m                 \u001b[0;32mreturn\u001b[0m \u001b[0mself\u001b[0m\u001b[0;34m.\u001b[0m\u001b[0m_getitem_multilevel\u001b[0m\u001b[0;34m(\u001b[0m\u001b[0mkey\u001b[0m\u001b[0;34m)\u001b[0m\u001b[0;34m\u001b[0m\u001b[0;34m\u001b[0m\u001b[0m\n\u001b[0;32m-> 4102\u001b[0;31m             \u001b[0mindexer\u001b[0m \u001b[0;34m=\u001b[0m \u001b[0mself\u001b[0m\u001b[0;34m.\u001b[0m\u001b[0mcolumns\u001b[0m\u001b[0;34m.\u001b[0m\u001b[0mget_loc\u001b[0m\u001b[0;34m(\u001b[0m\u001b[0mkey\u001b[0m\u001b[0;34m)\u001b[0m\u001b[0;34m\u001b[0m\u001b[0;34m\u001b[0m\u001b[0m\n\u001b[0m\u001b[1;32m   4103\u001b[0m             \u001b[0;32mif\u001b[0m \u001b[0mis_integer\u001b[0m\u001b[0;34m(\u001b[0m\u001b[0mindexer\u001b[0m\u001b[0;34m)\u001b[0m\u001b[0;34m:\u001b[0m\u001b[0;34m\u001b[0m\u001b[0;34m\u001b[0m\u001b[0m\n\u001b[1;32m   4104\u001b[0m                 \u001b[0mindexer\u001b[0m \u001b[0;34m=\u001b[0m \u001b[0;34m[\u001b[0m\u001b[0mindexer\u001b[0m\u001b[0;34m]\u001b[0m\u001b[0;34m\u001b[0m\u001b[0;34m\u001b[0m\u001b[0m\n",
            "\u001b[0;32m/usr/local/lib/python3.11/dist-packages/pandas/core/indexes/base.py\u001b[0m in \u001b[0;36mget_loc\u001b[0;34m(self, key)\u001b[0m\n\u001b[1;32m   3810\u001b[0m             ):\n\u001b[1;32m   3811\u001b[0m                 \u001b[0;32mraise\u001b[0m \u001b[0mInvalidIndexError\u001b[0m\u001b[0;34m(\u001b[0m\u001b[0mkey\u001b[0m\u001b[0;34m)\u001b[0m\u001b[0;34m\u001b[0m\u001b[0;34m\u001b[0m\u001b[0m\n\u001b[0;32m-> 3812\u001b[0;31m             \u001b[0;32mraise\u001b[0m \u001b[0mKeyError\u001b[0m\u001b[0;34m(\u001b[0m\u001b[0mkey\u001b[0m\u001b[0;34m)\u001b[0m \u001b[0;32mfrom\u001b[0m \u001b[0merr\u001b[0m\u001b[0;34m\u001b[0m\u001b[0;34m\u001b[0m\u001b[0m\n\u001b[0m\u001b[1;32m   3813\u001b[0m         \u001b[0;32mexcept\u001b[0m \u001b[0mTypeError\u001b[0m\u001b[0;34m:\u001b[0m\u001b[0;34m\u001b[0m\u001b[0;34m\u001b[0m\u001b[0m\n\u001b[1;32m   3814\u001b[0m             \u001b[0;31m# If we have a listlike key, _check_indexing_error will raise\u001b[0m\u001b[0;34m\u001b[0m\u001b[0;34m\u001b[0m\u001b[0m\n",
            "\u001b[0;31mKeyError\u001b[0m: 'Type_of_Loan'"
          ]
        }
      ]
    },
    {
      "cell_type": "code",
      "source": [
        "# Wiek - odciąć wszystko co jest poniżej zera i uzupełnić średnim wiekiem"
      ],
      "metadata": {
        "id": "_isbq-P6dP5I"
      },
      "execution_count": null,
      "outputs": []
    }
  ]
}