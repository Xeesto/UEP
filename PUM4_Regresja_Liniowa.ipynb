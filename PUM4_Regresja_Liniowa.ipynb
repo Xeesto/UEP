{
  "nbformat": 4,
  "nbformat_minor": 0,
  "metadata": {
    "colab": {
      "provenance": [],
      "authorship_tag": "ABX9TyNQUzE0aQPVvOMkUyBn8ulZ",
      "include_colab_link": true
    },
    "kernelspec": {
      "name": "python3",
      "display_name": "Python 3"
    },
    "language_info": {
      "name": "python"
    }
  },
  "cells": [
    {
      "cell_type": "markdown",
      "metadata": {
        "id": "view-in-github",
        "colab_type": "text"
      },
      "source": [
        "<a href=\"https://colab.research.google.com/github/Xeesto/UEP/blob/main/PUM4_Regresja_Liniowa.ipynb\" target=\"_parent\"><img src=\"https://colab.research.google.com/assets/colab-badge.svg\" alt=\"Open In Colab\"/></a>"
      ]
    },
    {
      "cell_type": "code",
      "execution_count": 1,
      "metadata": {
        "colab": {
          "base_uri": "https://localhost:8080/"
        },
        "id": "5bq6IyyxVMxW",
        "outputId": "eb8d847e-179b-462e-ec58-338724c0cdc9"
      },
      "outputs": [
        {
          "output_type": "stream",
          "name": "stdout",
          "text": [
            "Cloning into 'main'...\n",
            "fatal: unable to update url base from redirection:\n",
            "  asked for: https://github.com/Xeesto/UEP/new/main/info/refs?service=git-upload-pack\n",
            "   redirect: https://github.com/login?return_to=https%3A%2F%2Fgithub.com%2FXeesto%2FUEP%2Fnew%2Fmain%2Finfo%2Frefs%3Fservice%3Dgit-upload-pack\n"
          ]
        }
      ],
      "source": [
        "!git clone \"https://github.com/Xeesto/UEP/new/main\""
      ]
    },
    {
      "cell_type": "code",
      "source": [
        "import numpy as np\n",
        "import pandas as pd\n",
        "import matplotlib.pyplot as plt\n",
        "from sklearn.linear_model import LinearRegression, Ridge, Lasso\n",
        "from sklearn.model_selection import train_test_split\n",
        "from sklearn.metrics import mean_squared_error, mean_absolute_error, r2_score, explained_variance_score\n",
        "from sklearn.preprocessing import StandardScaler"
      ],
      "metadata": {
        "id": "uL4k5SnBWbxb"
      },
      "execution_count": 2,
      "outputs": []
    },
    {
      "cell_type": "code",
      "source": [],
      "metadata": {
        "id": "BbEmhgfPWeu5"
      },
      "execution_count": null,
      "outputs": []
    }
  ]
}