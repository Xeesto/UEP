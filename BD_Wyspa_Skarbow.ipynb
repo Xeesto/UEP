{
  "nbformat": 4,
  "nbformat_minor": 0,
  "metadata": {
    "colab": {
      "provenance": [],
      "authorship_tag": "ABX9TyOSE6mVZ3+PgGVA/IWhG8eS",
      "include_colab_link": true
    },
    "kernelspec": {
      "name": "python3",
      "display_name": "Python 3"
    },
    "language_info": {
      "name": "python"
    }
  },
  "cells": [
    {
      "cell_type": "markdown",
      "metadata": {
        "id": "view-in-github",
        "colab_type": "text"
      },
      "source": [
        "<a href=\"https://colab.research.google.com/github/Xeesto/UEP/blob/main/BD_Wyspa_Skarbow.ipynb\" target=\"_parent\"><img src=\"https://colab.research.google.com/assets/colab-badge.svg\" alt=\"Open In Colab\"/></a>"
      ]
    },
    {
      "cell_type": "code",
      "execution_count": 1,
      "metadata": {
        "id": "kxXMJYNntqLT"
      },
      "outputs": [],
      "source": [
        "# Ustaw wersję jako parametr\n",
        "SPARK_VERSION=\"3.5.5\"\n",
        "\n",
        "# Instalacja OpenJDK 8\n",
        "!apt-get install openjdk-8-jdk-headless -qq > /dev/null\n",
        "\n",
        "# Pobranie Apache Spark z określoną wersją\n",
        "!wget -q http://www.apache.org/dist/spark/spark-$SPARK_VERSION/spark-$SPARK_VERSION-bin-hadoop3.tgz\n",
        "\n",
        "# Rozpakowanie archiwum Spark\n",
        "!tar xf spark-$SPARK_VERSION-bin-hadoop3.tgz\n",
        "\n",
        "# Instalacja findspark i pyspark\n",
        "!pip install -q findspark==1.3.0\n",
        "!pip install -q pyspark==$SPARK_VERSION\n",
        "\n",
        "# Ustalamy zmienne środowiskowe.\n",
        "import os\n",
        "os.environ[\"JAVA_HOME\"] = \"/usr/lib/jvm/java-8-openjdk-amd64\"\n",
        "os.environ[\"SPARK_HOME\"] = f\"/content/spark-{SPARK_VERSION}-bin-hadoop3\""
      ]
    },
    {
      "cell_type": "code",
      "source": [
        "import findspark\n",
        "import pyspark\n",
        "from pyspark.sql import SparkSession\n",
        "from pyspark import SparkContext\n",
        "\n",
        "findspark.init(f\"spark-{SPARK_VERSION}-bin-hadoop3\")\n",
        "sc = pyspark.SparkContext('local[*]')\n",
        "spark = SparkSession.builder.appName('abc').getOrCreate()"
      ],
      "metadata": {
        "id": "B7eH0tGBuOWZ"
      },
      "execution_count": 2,
      "outputs": []
    },
    {
      "cell_type": "code",
      "source": [
        "!free -mh # Komenda na sprawdzenie dostępnej pamięci RAM"
      ],
      "metadata": {
        "colab": {
          "base_uri": "https://localhost:8080/"
        },
        "id": "jRlt__UCurZI",
        "outputId": "af9a7e10-c872-4f29-afa7-00426028fcfc"
      },
      "execution_count": 3,
      "outputs": [
        {
          "output_type": "stream",
          "name": "stdout",
          "text": [
            "               total        used        free      shared  buff/cache   available\n",
            "Mem:            12Gi       1.2Gi       3.8Gi       1.0Mi       7.7Gi        11Gi\n",
            "Swap:             0B          0B          0B\n"
          ]
        }
      ]
    },
    {
      "cell_type": "code",
      "source": [
        "!head -5 baby.csv"
      ],
      "metadata": {
        "colab": {
          "base_uri": "https://localhost:8080/"
        },
        "id": "RwhDwLKkvhhn",
        "outputId": "b96eabaa-2bcb-446d-b782-639e99c485bb"
      },
      "execution_count": 4,
      "outputs": [
        {
          "output_type": "stream",
          "name": "stdout",
          "text": [
            "Year,First Name,County,Sex,Count\n",
            "2013,DAVID,KINGS,M,272\n",
            "2013,JAYDEN,KINGS,M,268\n",
            "2013,JAYDEN,QUEENS,M,219\n",
            "2013,MOSHE,KINGS,M,219\n"
          ]
        }
      ]
    },
    {
      "cell_type": "code",
      "source": [
        "# from google.colab import files\n",
        "# baby_names = files_upload()\n"
      ],
      "metadata": {
        "id": "7IPYwB9rwKs8"
      },
      "execution_count": null,
      "outputs": []
    },
    {
      "cell_type": "code",
      "source": [
        "baby_names = sc.textFile('baby.csv')\n",
        "\n",
        "baby_names_no_header = baby_names.filter(lambda x: x!='Year,First Name,County,Sex,Count')"
      ],
      "metadata": {
        "id": "JTD4gjnJvmmr"
      },
      "execution_count": 7,
      "outputs": []
    },
    {
      "cell_type": "code",
      "source": [
        "baby_names_no_header.take(10)"
      ],
      "metadata": {
        "colab": {
          "base_uri": "https://localhost:8080/"
        },
        "id": "-gVHD5TTwqB_",
        "outputId": "548c71e6-8ba5-49a9-c0d9-ee7ffc149a7c"
      },
      "execution_count": 8,
      "outputs": [
        {
          "output_type": "execute_result",
          "data": {
            "text/plain": [
              "['2013,DAVID,KINGS,M,272',\n",
              " '2013,JAYDEN,KINGS,M,268',\n",
              " '2013,JAYDEN,QUEENS,M,219',\n",
              " '2013,MOSHE,KINGS,M,219',\n",
              " '2013,ETHAN,QUEENS,M,216',\n",
              " '2013,SOPHIA,QUEENS,F,204',\n",
              " '2013,DANIEL,QUEENS,M,203',\n",
              " '2013,JACOB,KINGS,M,202',\n",
              " '2013,ESTHER,KINGS,F,196',\n",
              " '2013,ETHAN,KINGS,M,196']"
            ]
          },
          "metadata": {},
          "execution_count": 8
        }
      ]
    },
    {
      "cell_type": "code",
      "source": [
        "rows = baby_names_no_header.map(lambda x: x.split(','))"
      ],
      "metadata": {
        "id": "j04I6nmVwuzl"
      },
      "execution_count": 10,
      "outputs": []
    },
    {
      "cell_type": "code",
      "source": [
        "(rows\n",
        " .map(lambda x: (x[1], x[2]))\n",
        " .groupByKey()\n",
        " .map(lambda x: {x[0]: list(x[1])})\n",
        " .collect()\n",
        ")"
      ],
      "metadata": {
        "colab": {
          "base_uri": "https://localhost:8080/"
        },
        "id": "kU_GRsBAw_al",
        "outputId": "a9d603e4-cc6d-44e1-edba-37cbc431e953"
      },
      "execution_count": 12,
      "outputs": [
        {
          "output_type": "execute_result",
          "data": {
            "text/plain": [
              "[{'DAVID': ['KINGS']},\n",
              " {'ETHAN': ['QUEENS', 'KINGS']},\n",
              " {'JACOB': ['KINGS', 'QUEENS']},\n",
              " {'ESTHER': ['KINGS']},\n",
              " {'ISABELLA': ['QUEENS']},\n",
              " {'LEAH': ['KINGS']},\n",
              " {'NOAH': ['KINGS']},\n",
              " {'JOSEPH': ['KINGS']},\n",
              " {'MATTHEW': ['QUEENS']},\n",
              " {'JAYDEN': ['KINGS', 'QUEENS']},\n",
              " {'MOSHE': ['KINGS']},\n",
              " {'SOPHIA': ['QUEENS']},\n",
              " {'DANIEL': ['QUEENS', 'KINGS']},\n",
              " {'AIDEN': ['KINGS']}]"
            ]
          },
          "metadata": {},
          "execution_count": 12
        }
      ]
    },
    {
      "cell_type": "code",
      "source": [
        "# Wyświetlanie\n",
        "rows.take(20)"
      ],
      "metadata": {
        "colab": {
          "base_uri": "https://localhost:8080/"
        },
        "id": "0EETxsyoyHTI",
        "outputId": "5e0ba85a-8c09-47bb-e6f3-5d0ee8c6d678"
      },
      "execution_count": 13,
      "outputs": [
        {
          "output_type": "execute_result",
          "data": {
            "text/plain": [
              "[['2013', 'DAVID', 'KINGS', 'M', '272'],\n",
              " ['2013', 'JAYDEN', 'KINGS', 'M', '268'],\n",
              " ['2013', 'JAYDEN', 'QUEENS', 'M', '219'],\n",
              " ['2013', 'MOSHE', 'KINGS', 'M', '219'],\n",
              " ['2013', 'ETHAN', 'QUEENS', 'M', '216'],\n",
              " ['2013', 'SOPHIA', 'QUEENS', 'F', '204'],\n",
              " ['2013', 'DANIEL', 'QUEENS', 'M', '203'],\n",
              " ['2013', 'JACOB', 'KINGS', 'M', '202'],\n",
              " ['2013', 'ESTHER', 'KINGS', 'F', '196'],\n",
              " ['2013', 'ETHAN', 'KINGS', 'M', '196'],\n",
              " ['2013', 'ISABELLA', 'QUEENS', 'F', '192'],\n",
              " ['2013', 'DANIEL', 'KINGS', 'M', '188'],\n",
              " ['2013', 'JACOB', 'QUEENS', 'M', '186'],\n",
              " ['2013', 'AIDEN', 'KINGS', 'M', '182'],\n",
              " ['2013', 'LEAH', 'KINGS', 'F', '179'],\n",
              " ['2013', 'NOAH', 'KINGS', 'M', '168'],\n",
              " ['2013', 'JOSEPH', 'KINGS', 'M', '166'],\n",
              " ['2013', 'MATTHEW', 'QUEENS', 'M', '161']]"
            ]
          },
          "metadata": {},
          "execution_count": 13
        }
      ]
    },
    {
      "cell_type": "code",
      "source": [
        "# Ile razy dane imie wystąpiło ile razy?\n",
        "(rows\n",
        " .map(lambda x: (x[1], int(x[4])))\n",
        " .groupByKey()\n",
        " .map(lambda x: {x[0]: sum(x[1])})\n",
        ").collect()"
      ],
      "metadata": {
        "colab": {
          "base_uri": "https://localhost:8080/"
        },
        "id": "4W5TeIubyv2V",
        "outputId": "34c3796a-45b1-437a-90e0-0195407faa28"
      },
      "execution_count": 21,
      "outputs": [
        {
          "output_type": "execute_result",
          "data": {
            "text/plain": [
              "[{'DAVID': 272},\n",
              " {'ETHAN': 412},\n",
              " {'JACOB': 388},\n",
              " {'ESTHER': 196},\n",
              " {'ISABELLA': 192},\n",
              " {'LEAH': 179},\n",
              " {'NOAH': 168},\n",
              " {'JOSEPH': 166},\n",
              " {'MATTHEW': 161},\n",
              " {'JAYDEN': 487},\n",
              " {'MOSHE': 219},\n",
              " {'SOPHIA': 204},\n",
              " {'DANIEL': 391},\n",
              " {'AIDEN': 182}]"
            ]
          },
          "metadata": {},
          "execution_count": 21
        }
      ]
    },
    {
      "cell_type": "code",
      "source": [
        "x1 = sc.parallelize(['kot', 'pies', 'zajac', 'niedzwiedz'])\n",
        "x2 = sc.parallelize(['wilk', 'pies', 'dzik', 'bocian'])"
      ],
      "metadata": {
        "id": "eaFIhRzG3KkS"
      },
      "execution_count": 26,
      "outputs": []
    },
    {
      "cell_type": "code",
      "source": [
        "x1.reduce(lambda x,y: x + '-' + y)"
      ],
      "metadata": {
        "colab": {
          "base_uri": "https://localhost:8080/",
          "height": 36
        },
        "id": "UcYgN_vO5FnV",
        "outputId": "81630b76-cdb5-40c3-d459-9b6761e002aa"
      },
      "execution_count": 27,
      "outputs": [
        {
          "output_type": "execute_result",
          "data": {
            "text/plain": [
              "'kot-pies-zajac-niedzwiedz'"
            ],
            "application/vnd.google.colaboratory.intrinsic+json": {
              "type": "string"
            }
          },
          "metadata": {},
          "execution_count": 27
        }
      ]
    },
    {
      "cell_type": "code",
      "source": [
        "def nazwa(x,y):\n",
        "  return x + '-' + y"
      ],
      "metadata": {
        "id": "Ar5fxDa35Zo3"
      },
      "execution_count": 28,
      "outputs": []
    },
    {
      "cell_type": "code",
      "source": [
        "# łaczenie liczb znaków we wszystkich wyrazach x1\n",
        "(x1\n",
        " .map(lambda x: [x, len(x)])\n",
        " .flatMap(lambda x: [x[1]])\n",
        ").reduce(lambda x, y: x + y)"
      ],
      "metadata": {
        "colab": {
          "base_uri": "https://localhost:8080/"
        },
        "id": "TGSqQOcD5lpe",
        "outputId": "ae1d6ce2-8063-4e04-ec4d-8872c2c3493d"
      },
      "execution_count": 29,
      "outputs": [
        {
          "output_type": "execute_result",
          "data": {
            "text/plain": [
              "22"
            ]
          },
          "metadata": {},
          "execution_count": 29
        }
      ]
    },
    {
      "cell_type": "code",
      "source": [
        "(x1\n",
        "   .map(lambda x: (x, 'wartosc-wymagane-pole'))\n",
        ").countByKey()"
      ],
      "metadata": {
        "colab": {
          "base_uri": "https://localhost:8080/"
        },
        "id": "zEEnTxHs6Vhv",
        "outputId": "df272470-bc99-4eea-846a-1b6222b20789"
      },
      "execution_count": 30,
      "outputs": [
        {
          "output_type": "execute_result",
          "data": {
            "text/plain": [
              "defaultdict(int, {'kot': 1, 'pies': 1, 'zajac': 1, 'niedzwiedz': 1})"
            ]
          },
          "metadata": {},
          "execution_count": 30
        }
      ]
    },
    {
      "cell_type": "code",
      "source": [],
      "metadata": {
        "id": "hTo89g1v6k97"
      },
      "execution_count": null,
      "outputs": []
    }
  ]
}