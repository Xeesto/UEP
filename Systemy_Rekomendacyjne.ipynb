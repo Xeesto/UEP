{
  "nbformat": 4,
  "nbformat_minor": 0,
  "metadata": {
    "colab": {
      "provenance": [],
      "authorship_tag": "ABX9TyP87Bhs2SWj8YAPrW4x49rd",
      "include_colab_link": true
    },
    "kernelspec": {
      "name": "python3",
      "display_name": "Python 3"
    },
    "language_info": {
      "name": "python"
    }
  },
  "cells": [
    {
      "cell_type": "markdown",
      "metadata": {
        "id": "view-in-github",
        "colab_type": "text"
      },
      "source": [
        "<a href=\"https://colab.research.google.com/github/Xeesto/UEP/blob/main/Systemy_Rekomendacyjne.ipynb\" target=\"_parent\"><img src=\"https://colab.research.google.com/assets/colab-badge.svg\" alt=\"Open In Colab\"/></a>"
      ]
    },
    {
      "cell_type": "code",
      "source": [
        "import pandas as pd"
      ],
      "metadata": {
        "id": "KYb_WuqidXik"
      },
      "execution_count": 6,
      "outputs": []
    },
    {
      "cell_type": "code",
      "source": [
        "movies = pd.read_csv('movies.csv')\n",
        "ratings = pd.read_csv('ratings.csv')"
      ],
      "metadata": {
        "id": "Vdl_o4IWeeZy"
      },
      "execution_count": 7,
      "outputs": []
    },
    {
      "cell_type": "code",
      "source": [
        "# Liczba filmów\n",
        "num_movies = len(movies)\n",
        "print(f\"Liczba filmów w bazie: {num_movies}\")"
      ],
      "metadata": {
        "colab": {
          "base_uri": "https://localhost:8080/"
        },
        "id": "csnhppEiek6n",
        "outputId": "15ef965d-49b9-4504-f166-98257bbce92f"
      },
      "execution_count": null,
      "outputs": [
        {
          "output_type": "stream",
          "name": "stdout",
          "text": [
            "Liczba filmów w bazie: 9742\n"
          ]
        }
      ]
    },
    {
      "cell_type": "code",
      "source": [
        "# Liczba ocen\n",
        "num_ratings = len(ratings)\n",
        "print(f\"Liczba ocen w bazie: {num_ratings}\")"
      ],
      "metadata": {
        "colab": {
          "base_uri": "https://localhost:8080/"
        },
        "id": "Wse4NphLeppv",
        "outputId": "bc331574-3cde-40ca-cd67-80da19149055"
      },
      "execution_count": null,
      "outputs": [
        {
          "output_type": "stream",
          "name": "stdout",
          "text": [
            "Liczba ocen w bazie: 100836\n"
          ]
        }
      ]
    },
    {
      "cell_type": "code",
      "source": [
        "# Liczba użytkowników\n",
        "num_users = ratings['userId'].nunique()\n",
        "print(f\"Liczba użytkowników w bazie: {num_users}\")\n"
      ],
      "metadata": {
        "colab": {
          "base_uri": "https://localhost:8080/"
        },
        "id": "5Mkef1TdfeUL",
        "outputId": "381b10ec-2ac2-499f-c742-c424b3a5c5b0"
      },
      "execution_count": null,
      "outputs": [
        {
          "output_type": "stream",
          "name": "stdout",
          "text": [
            "Liczba użytkowników w bazie: 610\n"
          ]
        }
      ]
    },
    {
      "cell_type": "code",
      "source": [
        "# Średnia liczba ocen użytkownika\n",
        "avg_ratings_per_user = ratings.groupby('userId')['rating'].count().mean()\n",
        "print(f\"Średnia liczba ocen użytkownika: {avg_ratings_per_user:.2f}\")"
      ],
      "metadata": {
        "colab": {
          "base_uri": "https://localhost:8080/"
        },
        "id": "wNS_Qmv2f21u",
        "outputId": "c4e5939c-bea7-4a1c-e2f2-c8aad4bfceca"
      },
      "execution_count": null,
      "outputs": [
        {
          "output_type": "stream",
          "name": "stdout",
          "text": [
            "Średnia liczba ocen użytkownika: 165.30\n"
          ]
        }
      ]
    },
    {
      "cell_type": "code",
      "source": [
        "# Średnia liczba ocen na film\n",
        "avg_ratings_per_movie = ratings.groupby('movieId')['rating'].count().mean()\n",
        "print(f\"Średnia liczba ocen na film: {avg_ratings_per_movie:.2f}\")"
      ],
      "metadata": {
        "colab": {
          "base_uri": "https://localhost:8080/"
        },
        "id": "xbHjnfAPgItH",
        "outputId": "a227a891-b778-49f7-fce1-0997aeb703ee"
      },
      "execution_count": null,
      "outputs": [
        {
          "output_type": "stream",
          "name": "stdout",
          "text": [
            "Średnia liczba ocen na film: 10.37\n"
          ]
        }
      ]
    },
    {
      "cell_type": "code",
      "source": [
        "# Rozkład ocen\n",
        "rating_counts = ratings['rating'].value_counts().sort_index()\n",
        "print(\"Rozkład ocen:\")\n",
        "print(rating_counts)"
      ],
      "metadata": {
        "colab": {
          "base_uri": "https://localhost:8080/"
        },
        "id": "UdGaVCsrgP2v",
        "outputId": "f3f9c0f6-6a6e-44c7-9e1b-eca261ae2b72"
      },
      "execution_count": null,
      "outputs": [
        {
          "output_type": "stream",
          "name": "stdout",
          "text": [
            "Rozkład ocen:\n",
            "rating\n",
            "0.5     1370\n",
            "1.0     2811\n",
            "1.5     1791\n",
            "2.0     7551\n",
            "2.5     5550\n",
            "3.0    20047\n",
            "3.5    13136\n",
            "4.0    26818\n",
            "4.5     8551\n",
            "5.0    13211\n",
            "Name: count, dtype: int64\n"
          ]
        }
      ]
    },
    {
      "cell_type": "code",
      "source": [
        "movie_titles = dict(zip(movies['movieId'], movies['title']))"
      ],
      "metadata": {
        "id": "ZThuf5oxgvu3"
      },
      "execution_count": null,
      "outputs": []
    },
    {
      "cell_type": "code",
      "source": [
        "# Wyświetlenie słownika\n",
        "# print(\"Słownik filmów:\")\n",
        "# print(movie_titles)"
      ],
      "metadata": {
        "id": "BhLUl_5ZhIKb"
      },
      "execution_count": null,
      "outputs": []
    },
    {
      "cell_type": "code",
      "source": [
        "movie_id = 13                                       # ID filmu do wpisania\n",
        "title = movie_titles.get(movie_id)\n",
        "\n",
        "if title:\n",
        "    print(f\"Film o ID {movie_id} to: {title}\")\n",
        "else:\n",
        "    print(f\"Nie znaleziono filmu o ID: {movie_id}\")"
      ],
      "metadata": {
        "colab": {
          "base_uri": "https://localhost:8080/"
        },
        "id": "cKeB0at3hPKY",
        "outputId": "27bb7a03-0962-44d6-853b-3eca02a70417"
      },
      "execution_count": null,
      "outputs": [
        {
          "output_type": "stream",
          "name": "stdout",
          "text": [
            "Film o ID 13 to: Balto (1995)\n"
          ]
        }
      ]
    },
    {
      "cell_type": "code",
      "source": [
        "# movie_stats - agregujemy statystyki dla filmów\n",
        "movie_stats = ratings.groupby('movieId')['rating'].agg(['mean', 'count']).reset_index()\n",
        "\n",
        "# Obliczamy średnią liczbę ocen (C) i średnią ocenę (m) dla całej bazy\n",
        "C = movie_stats['count'].mean()\n",
        "m = movie_stats['mean'].mean()\n"
      ],
      "metadata": {
        "id": "CEz5pU5pi86c"
      },
      "execution_count": null,
      "outputs": []
    },
    {
      "cell_type": "code",
      "source": [
        "# Definicja funkcji bayesowskiej\n",
        "def bayesian_avg(ratings):\n",
        "    return (C * m + ratings.sum()) / (C + ratings.count())"
      ],
      "metadata": {
        "id": "J14clNI4k-ee"
      },
      "execution_count": null,
      "outputs": []
    },
    {
      "cell_type": "code",
      "source": [
        "# Grupowanie ocen i obliczanie średniej bayesowskiej\n",
        "bayesian_avg_ratings = ratings.groupby('movieId')['rating'].agg(bayesian_avg).reset_index()\n",
        "bayesian_avg_ratings.columns = ['movieId', 'bayesian_avg']\n",
        "\n",
        "movie_stats = movie_stats.merge(bayesian_avg_ratings, on='movieId')\n",
        "\n",
        "movie_stats = movie_stats.merge(movies[['movieId', 'title']], on='movieId')"
      ],
      "metadata": {
        "id": "aEWFL0GlkUdB"
      },
      "execution_count": null,
      "outputs": []
    },
    {
      "cell_type": "code",
      "source": [
        "# Sortowanie po średniej bayesowskiej malejąco\n",
        "top_movies = movie_stats.sort_values(by='bayesian_avg', ascending=False)"
      ],
      "metadata": {
        "id": "nuMRiku8lDfi"
      },
      "execution_count": null,
      "outputs": []
    },
    {
      "cell_type": "code",
      "source": [
        "# Wyświetlenie top 3 filmów\n",
        "print(\"Top 5 filmy według średniej bayesowskiej:\")\n",
        "print(top_movies[['movieId', 'title', 'bayesian_avg']].head(5))"
      ],
      "metadata": {
        "colab": {
          "base_uri": "https://localhost:8080/"
        },
        "id": "5_w5cIGNld0A",
        "outputId": "55d92b7e-097f-4e03-91c7-69f4b7dfdacb"
      },
      "execution_count": null,
      "outputs": [
        {
          "output_type": "stream",
          "name": "stdout",
          "text": [
            "Top 5 filmy według średniej bayesowskiej:\n",
            "      movieId                                      title  bayesian_avg\n",
            "277       318           Shawshank Redemption, The (1994)      4.392070\n",
            "659       858                      Godfather, The (1972)      4.236457\n",
            "2224     2959                          Fight Club (1999)      4.227052\n",
            "224       260  Star Wars: Episode IV - A New Hope (1977)      4.192646\n",
            "46         50                 Usual Suspects, The (1995)      4.190567\n"
          ]
        }
      ]
    },
    {
      "cell_type": "markdown",
      "source": [
        "SURPRISE"
      ],
      "metadata": {
        "id": "dDZWcfD5HHFO"
      }
    },
    {
      "cell_type": "code",
      "source": [
        "!pip install numpy==1.23.5\n"
      ],
      "metadata": {
        "colab": {
          "base_uri": "https://localhost:8080/"
        },
        "id": "tuUEgmw7lz8K",
        "outputId": "e759b0bc-ef1d-4be5-c7bf-7b340491528f"
      },
      "execution_count": 1,
      "outputs": [
        {
          "output_type": "stream",
          "name": "stdout",
          "text": [
            "Requirement already satisfied: numpy==1.23.5 in /usr/local/lib/python3.11/dist-packages (1.23.5)\n"
          ]
        }
      ]
    },
    {
      "cell_type": "code",
      "source": [
        "!pip install scikit-surprise"
      ],
      "metadata": {
        "colab": {
          "base_uri": "https://localhost:8080/"
        },
        "id": "XLcWu0p8JQuE",
        "outputId": "1e3a44e3-e9aa-42ae-cdae-d880256b4e96"
      },
      "execution_count": 2,
      "outputs": [
        {
          "output_type": "stream",
          "name": "stdout",
          "text": [
            "Collecting scikit-surprise\n",
            "  Using cached scikit_surprise-1.1.4.tar.gz (154 kB)\n",
            "  Installing build dependencies ... \u001b[?25l\u001b[?25hdone\n",
            "  Getting requirements to build wheel ... \u001b[?25l\u001b[?25hdone\n",
            "  Preparing metadata (pyproject.toml) ... \u001b[?25l\u001b[?25hdone\n",
            "Requirement already satisfied: joblib>=1.2.0 in /usr/local/lib/python3.11/dist-packages (from scikit-surprise) (1.5.0)\n",
            "Requirement already satisfied: numpy>=1.19.5 in /usr/local/lib/python3.11/dist-packages (from scikit-surprise) (1.23.5)\n",
            "Requirement already satisfied: scipy>=1.6.0 in /usr/local/lib/python3.11/dist-packages (from scikit-surprise) (1.15.3)\n",
            "Building wheels for collected packages: scikit-surprise\n",
            "  Building wheel for scikit-surprise (pyproject.toml) ... \u001b[?25l\u001b[?25hdone\n",
            "  Created wheel for scikit-surprise: filename=scikit_surprise-1.1.4-cp311-cp311-linux_x86_64.whl size=2461560 sha256=785b40d0aa838751adf59fb63b6b7ca81a3285ffff17b044af68fc279e5984c0\n",
            "  Stored in directory: /root/.cache/pip/wheels/2a/8f/6e/7e2899163e2d85d8266daab4aa1cdabec7a6c56f83c015b5af\n",
            "Successfully built scikit-surprise\n",
            "Installing collected packages: scikit-surprise\n",
            "Successfully installed scikit-surprise-1.1.4\n"
          ]
        }
      ]
    },
    {
      "cell_type": "code",
      "source": [
        "import numpy as np\n",
        "from surprise import Dataset, Reader\n",
        "from surprise.model_selection import cross_validate, GridSearchCV\n",
        "from surprise.prediction_algorithms.matrix_factorization import SVD\n",
        "from surprise.prediction_algorithms.knns import KNNBasic, KNNBaseline"
      ],
      "metadata": {
        "id": "Mqve6-g_mTSV"
      },
      "execution_count": 3,
      "outputs": []
    },
    {
      "cell_type": "code",
      "source": [
        "min_rating = ratings.rating.min()\n",
        "max_rating = ratings.rating.max()\n",
        "\n",
        "reader = Reader(rating_scale=(min_rating, max_rating))\n",
        "data = Dataset.load_from_df(ratings[['userId', 'movieId', 'rating']], reader)"
      ],
      "metadata": {
        "id": "gRa7a8fuJ8Vi"
      },
      "execution_count": 8,
      "outputs": []
    },
    {
      "cell_type": "code",
      "source": [
        "algo = SVD()\n",
        "cross_validate(algo, data, measures=['RMSE', 'MAE'], cv=5, verbose=True)"
      ],
      "metadata": {
        "colab": {
          "base_uri": "https://localhost:8080/"
        },
        "id": "wp4Lr_8UK0WB",
        "outputId": "7697b21a-7d95-40b1-fd75-80f7c3325933"
      },
      "execution_count": 9,
      "outputs": [
        {
          "output_type": "stream",
          "name": "stdout",
          "text": [
            "Evaluating RMSE, MAE of algorithm SVD on 5 split(s).\n",
            "\n",
            "                  Fold 1  Fold 2  Fold 3  Fold 4  Fold 5  Mean    Std     \n",
            "RMSE (testset)    0.8730  0.8701  0.8723  0.8805  0.8767  0.8745  0.0037  \n",
            "MAE (testset)     0.6708  0.6713  0.6675  0.6772  0.6728  0.6719  0.0031  \n",
            "Fit time          3.73    1.52    1.56    1.54    1.50    1.97    0.88    \n",
            "Test time         0.17    0.16    0.26    0.11    0.12    0.16    0.05    \n"
          ]
        },
        {
          "output_type": "execute_result",
          "data": {
            "text/plain": [
              "{'test_rmse': array([0.87300129, 0.87014269, 0.87226513, 0.88047291, 0.87672338]),\n",
              " 'test_mae': array([0.67084473, 0.67128644, 0.66754631, 0.67722128, 0.67276033]),\n",
              " 'fit_time': (3.725538730621338,\n",
              "  1.5180644989013672,\n",
              "  1.5553226470947266,\n",
              "  1.5388898849487305,\n",
              "  1.4990928173065186),\n",
              " 'test_time': (0.1737673282623291,\n",
              "  0.15750527381896973,\n",
              "  0.2621443271636963,\n",
              "  0.11430835723876953,\n",
              "  0.11573386192321777)}"
            ]
          },
          "metadata": {},
          "execution_count": 9
        }
      ]
    },
    {
      "cell_type": "code",
      "source": [
        "trainset = data.build_full_trainset()\n",
        "algo.fit(trainset)"
      ],
      "metadata": {
        "colab": {
          "base_uri": "https://localhost:8080/"
        },
        "id": "AjNFHN7fK8kD",
        "outputId": "ef95f4c0-cb94-4f7a-8803-f54b9f2bf0b0"
      },
      "execution_count": 10,
      "outputs": [
        {
          "output_type": "execute_result",
          "data": {
            "text/plain": [
              "<surprise.prediction_algorithms.matrix_factorization.SVD at 0x7cdca846f590>"
            ]
          },
          "metadata": {},
          "execution_count": 10
        }
      ]
    },
    {
      "cell_type": "code",
      "source": [
        "# Rekomendację dla użytkownika o ID 600\n",
        "#######################################\n",
        "\n",
        "all_movie_ids = set(movies['movieId'])\n",
        "\n",
        "# Ocenione przez usera\n",
        "rated_movie_ids = set(ratings[ratings['userId'] == 600]['movieId'])\n",
        "\n",
        "# Nieocenione filmy przez usera\n",
        "unrated_movie_ids = all_movie_ids - rated_movie_ids\n",
        "\n",
        "# Przewidywanie oceny\n",
        "predictions = [ (movie_id, algo.predict(600, movie_id).est) for movie_id in unrated_movie_ids ]\n",
        "\n",
        "predictions.sort(key=lambda x: x[1], reverse=True)\n",
        "top_10 = predictions[:10]\n",
        "\n",
        "# Merge z filmami\n",
        "recommended_movies = pd.DataFrame(top_10, columns=['movieId', 'predicted_rating'])\n",
        "recommended_movies = recommended_movies.merge(movies, on='movieId')\n",
        "print(recommended_movies[['movieId', 'title', 'predicted_rating']])"
      ],
      "metadata": {
        "colab": {
          "base_uri": "https://localhost:8080/"
        },
        "id": "MEbLQW-xK_n4",
        "outputId": "5917d588-407e-4ade-eba0-c559689cbd97"
      },
      "execution_count": 11,
      "outputs": [
        {
          "output_type": "stream",
          "name": "stdout",
          "text": [
            "   movieId                                            title  predicted_rating\n",
            "0     1223  Grand Day Out with Wallace and Gromit, A (1989)          4.306862\n",
            "1      541                              Blade Runner (1982)          4.278327\n",
            "2     1233                     Boot, Das (Boat, The) (1981)          4.246605\n",
            "3     1204                        Lawrence of Arabia (1962)          4.188972\n",
            "4     3435                          Double Indemnity (1944)          4.155550\n",
            "5    78499                               Toy Story 3 (2010)          4.143663\n",
            "6     1208                            Apocalypse Now (1979)          4.119316\n",
            "7    68157                      Inglourious Basterds (2009)          4.117311\n",
            "8      951                           His Girl Friday (1940)          4.077474\n",
            "9     1304        Butch Cassidy and the Sundance Kid (1969)          4.076185\n"
          ]
        }
      ]
    }
  ]
}