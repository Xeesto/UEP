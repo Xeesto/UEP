{
  "nbformat": 4,
  "nbformat_minor": 0,
  "metadata": {
    "colab": {
      "provenance": [],
      "authorship_tag": "ABX9TyOOWuNrFmytebJ0cDR6t+3Z",
      "include_colab_link": true
    },
    "kernelspec": {
      "name": "python3",
      "display_name": "Python 3"
    },
    "language_info": {
      "name": "python"
    }
  },
  "cells": [
    {
      "cell_type": "markdown",
      "metadata": {
        "id": "view-in-github",
        "colab_type": "text"
      },
      "source": [
        "<a href=\"https://colab.research.google.com/github/Xeesto/UEP/blob/main/Systemy_Rekomendacyjne.ipynb\" target=\"_parent\"><img src=\"https://colab.research.google.com/assets/colab-badge.svg\" alt=\"Open In Colab\"/></a>"
      ]
    },
    {
      "cell_type": "code",
      "source": [
        "import pandas as pd"
      ],
      "metadata": {
        "id": "KYb_WuqidXik"
      },
      "execution_count": 1,
      "outputs": []
    },
    {
      "cell_type": "code",
      "source": [
        "movies = pd.read_csv('movies.csv')\n",
        "ratings = pd.read_csv('ratings.csv')"
      ],
      "metadata": {
        "id": "Vdl_o4IWeeZy"
      },
      "execution_count": 8,
      "outputs": []
    },
    {
      "cell_type": "code",
      "source": [
        "# Liczba filmów\n",
        "num_movies = len(movies)\n",
        "print(f\"Liczba filmów w bazie: {num_movies}\")"
      ],
      "metadata": {
        "colab": {
          "base_uri": "https://localhost:8080/"
        },
        "id": "csnhppEiek6n",
        "outputId": "15ef965d-49b9-4504-f166-98257bbce92f"
      },
      "execution_count": 10,
      "outputs": [
        {
          "output_type": "stream",
          "name": "stdout",
          "text": [
            "Liczba filmów w bazie: 9742\n"
          ]
        }
      ]
    },
    {
      "cell_type": "code",
      "source": [
        "# Liczba ocen\n",
        "num_ratings = len(ratings)\n",
        "print(f\"Liczba ocen w bazie: {num_ratings}\")"
      ],
      "metadata": {
        "colab": {
          "base_uri": "https://localhost:8080/"
        },
        "id": "Wse4NphLeppv",
        "outputId": "bc331574-3cde-40ca-cd67-80da19149055"
      },
      "execution_count": 11,
      "outputs": [
        {
          "output_type": "stream",
          "name": "stdout",
          "text": [
            "Liczba ocen w bazie: 100836\n"
          ]
        }
      ]
    },
    {
      "cell_type": "code",
      "source": [
        "# Liczba użytkowników\n",
        "num_users = ratings['userId'].nunique()\n",
        "print(f\"Liczba użytkowników w bazie: {num_users}\")\n"
      ],
      "metadata": {
        "colab": {
          "base_uri": "https://localhost:8080/"
        },
        "id": "5Mkef1TdfeUL",
        "outputId": "381b10ec-2ac2-499f-c742-c424b3a5c5b0"
      },
      "execution_count": 12,
      "outputs": [
        {
          "output_type": "stream",
          "name": "stdout",
          "text": [
            "Liczba użytkowników w bazie: 610\n"
          ]
        }
      ]
    },
    {
      "cell_type": "code",
      "source": [
        "# Średnia liczba ocen użytkownika\n",
        "avg_ratings_per_user = ratings.groupby('userId')['rating'].count().mean()\n",
        "print(f\"Średnia liczba ocen użytkownika: {avg_ratings_per_user:.2f}\")"
      ],
      "metadata": {
        "colab": {
          "base_uri": "https://localhost:8080/"
        },
        "id": "wNS_Qmv2f21u",
        "outputId": "c4e5939c-bea7-4a1c-e2f2-c8aad4bfceca"
      },
      "execution_count": 13,
      "outputs": [
        {
          "output_type": "stream",
          "name": "stdout",
          "text": [
            "Średnia liczba ocen użytkownika: 165.30\n"
          ]
        }
      ]
    },
    {
      "cell_type": "code",
      "source": [
        "# Średnia liczba ocen na film\n",
        "avg_ratings_per_movie = ratings.groupby('movieId')['rating'].count().mean()\n",
        "print(f\"Średnia liczba ocen na film: {avg_ratings_per_movie:.2f}\")"
      ],
      "metadata": {
        "colab": {
          "base_uri": "https://localhost:8080/"
        },
        "id": "xbHjnfAPgItH",
        "outputId": "a227a891-b778-49f7-fce1-0997aeb703ee"
      },
      "execution_count": 14,
      "outputs": [
        {
          "output_type": "stream",
          "name": "stdout",
          "text": [
            "Średnia liczba ocen na film: 10.37\n"
          ]
        }
      ]
    },
    {
      "cell_type": "code",
      "source": [
        "# Rozkład ocen\n",
        "rating_counts = ratings['rating'].value_counts().sort_index()\n",
        "print(\"Rozkład ocen:\")\n",
        "print(rating_counts)"
      ],
      "metadata": {
        "colab": {
          "base_uri": "https://localhost:8080/"
        },
        "id": "UdGaVCsrgP2v",
        "outputId": "f3f9c0f6-6a6e-44c7-9e1b-eca261ae2b72"
      },
      "execution_count": 15,
      "outputs": [
        {
          "output_type": "stream",
          "name": "stdout",
          "text": [
            "Rozkład ocen:\n",
            "rating\n",
            "0.5     1370\n",
            "1.0     2811\n",
            "1.5     1791\n",
            "2.0     7551\n",
            "2.5     5550\n",
            "3.0    20047\n",
            "3.5    13136\n",
            "4.0    26818\n",
            "4.5     8551\n",
            "5.0    13211\n",
            "Name: count, dtype: int64\n"
          ]
        }
      ]
    },
    {
      "cell_type": "code",
      "source": [
        "movie_titles = dict(zip(movies['movieId'], movies['title']))"
      ],
      "metadata": {
        "id": "ZThuf5oxgvu3"
      },
      "execution_count": 17,
      "outputs": []
    },
    {
      "cell_type": "code",
      "source": [
        "# Wyświetlenie słownika\n",
        "# print(\"Słownik filmów:\")\n",
        "# print(movie_titles)"
      ],
      "metadata": {
        "id": "BhLUl_5ZhIKb"
      },
      "execution_count": 26,
      "outputs": []
    },
    {
      "cell_type": "code",
      "source": [
        "movie_id = 13                                       # ID filmu do wpisania\n",
        "title = movie_titles.get(movie_id)\n",
        "\n",
        "if title:\n",
        "    print(f\"Film o ID {movie_id} to: {title}\")\n",
        "else:\n",
        "    print(f\"Nie znaleziono filmu o ID: {movie_id}\")"
      ],
      "metadata": {
        "colab": {
          "base_uri": "https://localhost:8080/"
        },
        "id": "cKeB0at3hPKY",
        "outputId": "27bb7a03-0962-44d6-853b-3eca02a70417"
      },
      "execution_count": 23,
      "outputs": [
        {
          "output_type": "stream",
          "name": "stdout",
          "text": [
            "Film o ID 13 to: Balto (1995)\n"
          ]
        }
      ]
    }
  ]
}